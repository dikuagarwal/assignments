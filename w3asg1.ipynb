{
 "cells": [
  {
   "cell_type": "markdown",
   "id": "b8af2d5b-183f-41d8-855a-49474860d7e6",
   "metadata": {},
   "source": [
    "Q1. Which keyword is used to create a function? Create a function to return a list of odd numbers in the\n",
    "range of 1 to 25.<br>\n",
    "Ans. def keyword is used for creating a function."
   ]
  },
  {
   "cell_type": "code",
   "execution_count": 1,
   "id": "aabf87f9-2226-471c-8086-cbe88c64e7d8",
   "metadata": {},
   "outputs": [
    {
     "data": {
      "text/plain": [
       "[1, 3, 5, 7, 9, 11, 13, 15, 17, 19, 21, 23, 25]"
      ]
     },
     "execution_count": 1,
     "metadata": {},
     "output_type": "execute_result"
    }
   ],
   "source": [
    "l = []\n",
    "def odd_no(n):\n",
    "    for i in range(1,n):\n",
    "        if i%2!=0:\n",
    "            l.append(i)\n",
    "    return l\n",
    "odd_no(26)\n",
    "            "
   ]
  },
  {
   "cell_type": "markdown",
   "id": "c7567f72-c0b2-442e-b0c1-11391838e800",
   "metadata": {},
   "source": [
    "Q2. Why *args and **kwargs is used in some functions? Create a function each for *args and **kwargs\n",
    "to demonstrate their use.<br>\n",
    "Ans. *args and **kwargs as an argument when we are unsure about the number of arguments to pass in the functions. Python has *args which allow us to pass the variable number of non keyword arguments to function. in **kwarge The arguments are passed as a dictionary and these arguments make a dictionary inside function with name same as the parameter excluding double asterisk **."
   ]
  },
  {
   "cell_type": "code",
   "execution_count": 2,
   "id": "7763d993-96b4-405e-bb21-7d9db6f7a446",
   "metadata": {},
   "outputs": [
    {
     "name": "stdout",
     "output_type": "stream",
     "text": [
      "<class 'tuple'>\n"
     ]
    },
    {
     "data": {
      "text/plain": [
       "286"
      ]
     },
     "execution_count": 2,
     "metadata": {},
     "output_type": "execute_result"
    }
   ],
   "source": [
    "def summation(*abc):\n",
    "    addition = 0\n",
    "    print(type(abc))\n",
    "    for i in abc:\n",
    "        addition += i\n",
    "    return addition\n",
    "\n",
    "summation(45,87,98,56)\n"
   ]
  },
  {
   "cell_type": "code",
   "execution_count": 3,
   "id": "605939a3-c450-4d2b-94ec-ba091aadcd45",
   "metadata": {},
   "outputs": [
    {
     "name": "stdout",
     "output_type": "stream",
     "text": [
      "<class 'dict'>\n",
      "{'a2': 2000, 'a5': 5000}\n",
      "a2 2000\n",
      "a5 5000\n"
     ]
    }
   ],
   "source": [
    "def fun(**abcd):\n",
    "    print(type(abcd))\n",
    "    print(abcd)\n",
    "    for key,value in abcd.items():\n",
    "        print(key,value)\n",
    "    \n",
    "fun(a2=2000,a5=5000)"
   ]
  },
  {
   "cell_type": "markdown",
   "id": "ce761bb0-a3ff-4bad-bc4c-fb3fee44fa1b",
   "metadata": {},
   "source": [
    "Q3. What is an iterator in python? Name the method used to initialise the iterator object and the method\n",
    "used for iteration. Use these methods to print the first five elements of the given list [2, 4, 6, 8, 10, 12, 14,\n",
    "16, 18, 20].<br>\n",
    "Ans. An iterator is an object that allows you to iterate over collections of data, such as lists, tuples, dictionaries, and sets.<br>\n",
    "Iter() method is used to initialize the iterator object so that the instance of this object can be used for iterating."
   ]
  },
  {
   "cell_type": "code",
   "execution_count": 4,
   "id": "108b3174-1b9f-4985-bb19-8b89409c47e5",
   "metadata": {},
   "outputs": [
    {
     "name": "stdout",
     "output_type": "stream",
     "text": [
      "2\n",
      "4\n",
      "6\n",
      "8\n",
      "10\n"
     ]
    }
   ],
   "source": [
    "l = [2, 4, 6, 8, 10, 12, 14, 16, 18, 20]\n",
    "obj = iter(l)\n",
    "\n",
    "for i in range(5):\n",
    "    print(next(obj))"
   ]
  },
  {
   "cell_type": "markdown",
   "id": "16524ca7-cb45-404e-8a82-55ead56c9887",
   "metadata": {},
   "source": [
    "Q4. What is a generator function in python? Why yield keyword is used? Give an example of a generator\n",
    "function.<br>\n",
    "Ans. \"A generator is a function that returns an iterator\" that produces a sequence of values when iterated over, it's use for better memor managment. Generators are useful when we want to produce a large sequence of values, but we don't want to store all of them in memory at once.<br>\n",
    "The yield keyword in Python controls the flow of a generator function. This is similar to a return statement used for returning values in Python.<br>\n",
    "range() function is a example of generator function."
   ]
  },
  {
   "cell_type": "markdown",
   "id": "8c1d9627-9a68-440e-bd06-d3bef3e32ad3",
   "metadata": {},
   "source": [
    "Q5. Create a generator function for prime numbers less than 1000. Use the next() method to print the\n",
    "first 20 prime numbers."
   ]
  },
  {
   "cell_type": "code",
   "execution_count": 5,
   "id": "1af468b6-9b65-41c0-b386-592e2a167561",
   "metadata": {},
   "outputs": [
    {
     "name": "stdout",
     "output_type": "stream",
     "text": [
      "2\n",
      "3\n",
      "4\n",
      "5\n",
      "7\n",
      "11\n",
      "13\n",
      "17\n",
      "19\n",
      "23\n",
      "29\n",
      "31\n",
      "37\n",
      "41\n",
      "43\n",
      "47\n",
      "53\n",
      "59\n",
      "61\n",
      "67\n"
     ]
    }
   ],
   "source": [
    "def prime(n):\n",
    "    for i in range(1,n+1):\n",
    "        if i==1:\n",
    "            pass\n",
    "        elif i>1:\n",
    "            for j in range(2,int(i/2)):\n",
    "                if i%j==0:\n",
    "                    break\n",
    "            else:\n",
    "                yield i\n",
    "\n",
    "obj = prime(1000)\n",
    "for i in range(20):\n",
    "    print(next(obj))"
   ]
  },
  {
   "cell_type": "markdown",
   "id": "038823ba-16f7-455a-8f1c-12aad6be71c8",
   "metadata": {},
   "source": [
    "Q6. Write a python program to print the first 10 Fibonacci numbers using a while loop."
   ]
  },
  {
   "cell_type": "code",
   "execution_count": 6,
   "id": "931941ce-a9c9-452e-9ac7-ff61222519d8",
   "metadata": {},
   "outputs": [
    {
     "name": "stdout",
     "output_type": "stream",
     "text": [
      "0\n",
      "1\n",
      "1\n",
      "2\n",
      "3\n",
      "5\n",
      "8\n",
      "13\n",
      "21\n",
      "34\n"
     ]
    }
   ],
   "source": [
    "def test():\n",
    "    a,b=0,1\n",
    "    while True:\n",
    "        yield a\n",
    "        a, b = b, a+b\n",
    "        \n",
    "x = test()\n",
    "for i in range(10):\n",
    "    print(next(x))"
   ]
  },
  {
   "cell_type": "markdown",
   "id": "c10ace69-5376-4fa3-bfb8-19852fdca0cf",
   "metadata": {},
   "source": [
    "Q7. Write a List Comprehension to iterate through the given string: ‘pwskills’.\n",
    "Expected output: ['p', 'w', 's', 'k', 'i', 'l', 'l', 's']"
   ]
  },
  {
   "cell_type": "code",
   "execution_count": 7,
   "id": "705b05c6-62cc-4c30-ab42-925e711d4c3f",
   "metadata": {},
   "outputs": [
    {
     "data": {
      "text/plain": [
       "['p', 'w', 's', 'k', 'i', 'l', 'l', 's']"
      ]
     },
     "execution_count": 7,
     "metadata": {},
     "output_type": "execute_result"
    }
   ],
   "source": [
    "a = \"pwskills\"\n",
    "\n",
    "l = [x for x in a]\n",
    "l"
   ]
  },
  {
   "cell_type": "markdown",
   "id": "46068ef6-3da9-45fe-8db9-0685ca2cdca8",
   "metadata": {},
   "source": [
    "Q8. Write a python program to check whether a given number is Palindrome or not using a while loop."
   ]
  },
  {
   "cell_type": "code",
   "execution_count": 8,
   "id": "175ebccf-ccda-415d-a6d2-ac3a80d877df",
   "metadata": {},
   "outputs": [
    {
     "name": "stdout",
     "output_type": "stream",
     "text": [
      "a is a palindrome number\n"
     ]
    }
   ],
   "source": [
    "a = 12321\n",
    "x = a\n",
    "b = 0\n",
    "while a!=0:\n",
    "    b = b*10 + a%10\n",
    "    a = a//10\n",
    "\n",
    "if x==b:\n",
    "    print(\"a is a palindrome number\")\n",
    "else:\n",
    "    print(\"a is not a palindrome number\")\n"
   ]
  },
  {
   "cell_type": "markdown",
   "id": "b904d196-2761-48b1-8773-535e760171ee",
   "metadata": {},
   "source": [
    "Q9. Write a code to print odd numbers from 1 to 100 using list comprehension."
   ]
  },
  {
   "cell_type": "code",
   "execution_count": 9,
   "id": "bf001219-8bb7-47e1-8157-da9e055d3af9",
   "metadata": {},
   "outputs": [],
   "source": [
    "l1 = [x for x in range(1,101)]\n",
    "\n",
    "l2 = [x for x in l1 if x%2!=0]\n",
    "#l2"
   ]
  },
  {
   "cell_type": "code",
   "execution_count": null,
   "id": "452c5280-b010-44e8-8e1a-c75781213c3e",
   "metadata": {},
   "outputs": [],
   "source": []
  }
 ],
 "metadata": {
  "kernelspec": {
   "display_name": "Python 3 (ipykernel)",
   "language": "python",
   "name": "python3"
  },
  "language_info": {
   "codemirror_mode": {
    "name": "ipython",
    "version": 3
   },
   "file_extension": ".py",
   "mimetype": "text/x-python",
   "name": "python",
   "nbconvert_exporter": "python",
   "pygments_lexer": "ipython3",
   "version": "3.10.8"
  }
 },
 "nbformat": 4,
 "nbformat_minor": 5
}
