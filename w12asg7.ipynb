{
 "cells": [
  {
   "cell_type": "markdown",
   "id": "dcdacd10-dfa3-4de5-8eff-92b52926de42",
   "metadata": {},
   "source": [
    "Q1. Pearson correlation coefficient is a measure of the linear relationship between two variables. Suppose\n",
    "you have collected data on the amount of time students spend studying for an exam and their final exam\n",
    "scores. Calculate the Pearson correlation coefficient between these two variables and interpret the result."
   ]
  },
  {
   "cell_type": "code",
   "execution_count": 1,
   "id": "dd213f14-5e7d-46e8-930a-9d9d36bafb44",
   "metadata": {},
   "outputs": [
    {
     "name": "stdout",
     "output_type": "stream",
     "text": [
      "0.9912407071619304\n"
     ]
    },
    {
     "data": {
      "text/html": [
       "<div>\n",
       "<style scoped>\n",
       "    .dataframe tbody tr th:only-of-type {\n",
       "        vertical-align: middle;\n",
       "    }\n",
       "\n",
       "    .dataframe tbody tr th {\n",
       "        vertical-align: top;\n",
       "    }\n",
       "\n",
       "    .dataframe thead th {\n",
       "        text-align: right;\n",
       "    }\n",
       "</style>\n",
       "<table border=\"1\" class=\"dataframe\">\n",
       "  <thead>\n",
       "    <tr style=\"text-align: right;\">\n",
       "      <th></th>\n",
       "      <th>Study_Time</th>\n",
       "      <th>Exam_Score</th>\n",
       "    </tr>\n",
       "  </thead>\n",
       "  <tbody>\n",
       "    <tr>\n",
       "      <th>Study_Time</th>\n",
       "      <td>1.000000</td>\n",
       "      <td>0.991241</td>\n",
       "    </tr>\n",
       "    <tr>\n",
       "      <th>Exam_Score</th>\n",
       "      <td>0.991241</td>\n",
       "      <td>1.000000</td>\n",
       "    </tr>\n",
       "  </tbody>\n",
       "</table>\n",
       "</div>"
      ],
      "text/plain": [
       "            Study_Time  Exam_Score\n",
       "Study_Time    1.000000    0.991241\n",
       "Exam_Score    0.991241    1.000000"
      ]
     },
     "execution_count": 1,
     "metadata": {},
     "output_type": "execute_result"
    }
   ],
   "source": [
    "import pandas as pd\n",
    "\n",
    "# Sample data\n",
    "data = {\n",
    "    'Study_Time': [2, 4, 3, 5, 6],\n",
    "    'Exam_Score': [70, 85, 75, 90, 95]\n",
    "}\n",
    "\n",
    "# Create a DataFrame\n",
    "df = pd.DataFrame(data)\n",
    "print(df[\"Study_Time\"].corr(df.Exam_Score))\n",
    "df.corr()"
   ]
  },
  {
   "cell_type": "markdown",
   "id": "c092fda4-9672-4e61-8630-09d11ae010a4",
   "metadata": {},
   "source": [
    "<hr>Q2. Spearman's rank correlation is a measure of the monotonic relationship between two variables.\n",
    "Suppose you have collected data on the amount of sleep individuals get each night and their overall job\n",
    "satisfaction level on a scale of 1 to 10. Calculate the Spearman's rank correlation between these two\n",
    "variables and interpret the result."
   ]
  },
  {
   "cell_type": "code",
   "execution_count": 2,
   "id": "bdcdca32-f97f-4f6b-80fe-5a07e921b088",
   "metadata": {},
   "outputs": [
    {
     "data": {
      "text/plain": [
       "(0.4103913408340617, 0.4160251471689218)"
      ]
     },
     "execution_count": 2,
     "metadata": {},
     "output_type": "execute_result"
    }
   ],
   "source": [
    "sleep = [7, 5, 6, 8, 7]\n",
    "job_satisfaction = [9, 6, 7, 8, 5]\n",
    "\n",
    "import scipy.stats as stats\n",
    "\n",
    "s_corr,p = stats.spearmanr(sleep,job_satisfaction) # rank\n",
    "p_corr,p = stats.pearsonr(sleep,job_satisfaction)\n",
    "s_corr,p_corr"
   ]
  },
  {
   "cell_type": "markdown",
   "id": "80a44a7f-bdfd-40d4-baeb-2dd7aa683c9d",
   "metadata": {},
   "source": [
    "<hr>Q3. Suppose you are conducting a study to examine the relationship between the number of hours of\n",
    "exercise per week and body mass index (BMI) in a sample of adults. You collected data on both variables\n",
    "for 50 participants. Calculate the Pearson correlation coefficient and the Spearman's rank correlation\n",
    "between these two variables and compare the results."
   ]
  },
  {
   "cell_type": "code",
   "execution_count": 3,
   "id": "2f1c14f0-b870-43e9-9309-235e44f9a0d0",
   "metadata": {},
   "outputs": [
    {
     "data": {
      "text/plain": [
       "(0.8804733747545799, 0.8914172047617303)"
      ]
     },
     "execution_count": 3,
     "metadata": {},
     "output_type": "execute_result"
    }
   ],
   "source": [
    "data = {\n",
    "    'Exercise_Hours': [3, 5, 4, 2, 6, 7, 2, 4, 5, 3, 1, 5, 6, 3, 4, 2, 4, 7, 5, 3,\n",
    "                       6, 4, 3, 2, 5, 7, 4, 1, 6, 3, 5, 2, 4, 6, 2, 3, 5, 7, 4, 2,\n",
    "                       1, 5, 3, 6, 4, 2, 4, 3, 5, 7],\n",
    "    'BMI': [24.5, 28.3, 26.8, 22.1, 29.7, 32.2, 20.3, 25.6, 27.4, 23.8, 18.9, 26.9,\n",
    "            30.5, 23.2, 25.8, 21.4, 25.1, 32.8, 27.0, 24.3, 31.2, 26.6, 23.7, 20.9,\n",
    "            27.9, 33.1, 25.7, 19.2, 31.7, 23.4, 28.7, 21.6, 26.0, 31.5, 20.0, 23.0,\n",
    "            28.9, 33.5, 26.3, 21.2, 19.8, 27.6, 24.4, 30.0, 26.1, 21.8, 25.3, 27.8,20.8,24]\n",
    "}\n",
    "\n",
    "# Create a DataFrame\n",
    "df = pd.DataFrame(data)\n",
    "\n",
    "spearman,p1 = stats.spearmanr(df[\"Exercise_Hours\"],df.BMI)\n",
    "peason,p2 = stats.pearsonr(df[\"Exercise_Hours\"],df.BMI)\n",
    "\n",
    "spearman,peason"
   ]
  },
  {
   "cell_type": "markdown",
   "id": "204eb4a2-31a2-4d1f-918c-b7bff84b7430",
   "metadata": {},
   "source": [
    "<hr>\n",
    "Q4. A researcher is interested in examining the relationship between the number of hours individuals\n",
    "spend watching television per day and their level of physical activity. The researcher collected data on\n",
    "both variables from a sample of 50 participants. Calculate the Pearson correlation coefficient between\n",
    "these two variables."
   ]
  },
  {
   "cell_type": "code",
   "execution_count": 4,
   "id": "b0388fc1-7e2a-449c-af48-3868327d09ce",
   "metadata": {},
   "outputs": [
    {
     "data": {
      "text/plain": [
       "(0.34030917541039213, 0.3422280765119502)"
      ]
     },
     "execution_count": 4,
     "metadata": {},
     "output_type": "execute_result"
    }
   ],
   "source": [
    "import numpy as np\n",
    "\n",
    "# Generate random sample data\n",
    "np.random.seed(42)  # For reproducibility\n",
    "\n",
    "# Simulate data for hours of television watching and physical activity level\n",
    "tv_hours = np.random.randint(1, 6, size=50)  # Random hours between 1 and 5\n",
    "physical_activity = np.random.randint(20, 200, size=50)  # Random activity levels between 20 and 200\n",
    "\n",
    "# Create a DataFrame\n",
    "data = {\n",
    "    'TV_Hours': tv_hours,\n",
    "    'Physical_Activity': physical_activity\n",
    "}\n",
    "df = pd.DataFrame(data)\n",
    "spearman,p1 = stats.spearmanr(df[\"TV_Hours\"],df.Physical_Activity)\n",
    "peason,p2 = stats.pearsonr(df[\"TV_Hours\"],df.Physical_Activity)\n",
    "\n",
    "spearman,peason"
   ]
  },
  {
   "cell_type": "markdown",
   "id": "028064c5-8c45-43bb-a5e2-6cabc8d5e58a",
   "metadata": {},
   "source": [
    "<hr>\n",
    "Q5. A survey was conducted to examine the relationship between age and preference for a particular\n",
    "brand of soft drink. The survey results are shown below:"
   ]
  },
  {
   "attachments": {
    "65fb89c1-3338-4787-b358-5bd56b6d799c.png": {
     "image/png": "[encoded data removed]"
    }
   },
   "cell_type": "markdown",
   "id": "ff284484-a690-4069-9581-350b848a68c0",
   "metadata": {},
   "source": [
    "![image.png](attachment:65fb89c1-3338-4787-b358-5bd56b6d799c.png)"
   ]
  },
  {
   "cell_type": "code",
   "execution_count": 5,
   "id": "1a0790bf-7c11-4f1c-ad61-648622a74aa0",
   "metadata": {},
   "outputs": [
    {
     "name": "stdout",
     "output_type": "stream",
     "text": [
      "                       Age  Soft_Drink_coke  Soft_Drink_dew  Soft_Drink_pepsi\n",
      "Age               1.000000        -0.837240        0.394132          0.576439\n",
      "Soft_Drink_coke  -0.837240         1.000000       -0.447214         -0.707107\n",
      "Soft_Drink_dew    0.394132        -0.447214        1.000000         -0.316228\n",
      "Soft_Drink_pepsi  0.576439        -0.707107       -0.316228          1.000000\n"
     ]
    },
    {
     "data": {
      "text/plain": [
       "0.3941317112657172"
      ]
     },
     "execution_count": 5,
     "metadata": {},
     "output_type": "execute_result"
    }
   ],
   "source": [
    "df = pd.DataFrame({\"Age\":[25,42,37,19,31,28],\"Soft_Drink\":['coke','pepsi','dew','coke','pepsi','coke']})\n",
    "\n",
    "df = pd.get_dummies(df)\n",
    "print(df.corr())\n",
    "\n",
    "df.Age.corr(df.Soft_Drink_dew)"
   ]
  },
  {
   "cell_type": "markdown",
   "id": "c6b402ca-3ce1-461c-8c0c-1c6a43e7874e",
   "metadata": {},
   "source": [
    "<hr>Q6. A company is interested in examining the relationship between the number of sales calls made per day\n",
    "and the number of sales made per week. The company collected data on both variables from a sample of\n",
    "30 sales representatives. Calculate the Pearson correlation coefficient between these two variables."
   ]
  },
  {
   "cell_type": "code",
   "execution_count": 6,
   "id": "b09ba3ee-a511-4779-9a03-000551bbea2f",
   "metadata": {},
   "outputs": [
    {
     "name": "stdout",
     "output_type": "stream",
     "text": [
      "Pearson correlation coefficient: 0.9830625602181174\n"
     ]
    }
   ],
   "source": [
    "import pandas as pd\n",
    "\n",
    "# Sample data\n",
    "data = {\n",
    "    'Sales_Calls_Per_Day': [15, 20, 18, 10, 22, 25, 12, 16, 21, 17,\n",
    "                            19, 23, 14, 11, 13, 24, 26, 27, 28, 29,\n",
    "                            30, 9, 8, 7, 6, 5, 4, 3, 2, 1, 0],\n",
    "    'Sales_Per_Week': [5, 7, 6, 3, 8, 9, 4, 5, 7, 6,\n",
    "                       6, 8, 4, 3, 4, 9, 10, 11, 12, 13,\n",
    "                       14, 2, 2, 1, 1, 0, 0, 0, 0, 0, 0]\n",
    "}\n",
    "\n",
    "# Create a DataFrame\n",
    "df = pd.DataFrame(data)\n",
    "\n",
    "# Calculate Pearson correlation coefficient\n",
    "pearson_corr = df['Sales_Calls_Per_Day'].corr(df['Sales_Per_Week'])\n",
    "\n",
    "print(\"Pearson correlation coefficient:\", pearson_corr)\n"
   ]
  },
  {
   "cell_type": "code",
   "execution_count": null,
   "id": "dd71978c-af08-40c0-bd31-dd09e7e59e19",
   "metadata": {},
   "outputs": [],
   "source": []
  }
 ],
 "metadata": {
  "kernelspec": {
   "display_name": "Python 3 (ipykernel)",
   "language": "python",
   "name": "python3"
  },
  "language_info": {
   "codemirror_mode": {
    "name": "ipython",
    "version": 3
   },
   "file_extension": ".py",
   "mimetype": "text/x-python",
   "name": "python",
   "nbconvert_exporter": "python",
   "pygments_lexer": "ipython3",
   "version": "3.10.8"
  }
 },
 "nbformat": 4,
 "nbformat_minor": 5
}
