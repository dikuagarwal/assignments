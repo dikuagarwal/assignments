{
 "cells": [
  {
   "cell_type": "code",
   "execution_count": 1,
   "id": "9ceaab64-50f3-46d4-84d6-5da35c491f7d",
   "metadata": {},
   "outputs": [
    {
     "data": {
      "text/html": [
       "<div>\n",
       "<style scoped>\n",
       "    .dataframe tbody tr th:only-of-type {\n",
       "        vertical-align: middle;\n",
       "    }\n",
       "\n",
       "    .dataframe tbody tr th {\n",
       "        vertical-align: top;\n",
       "    }\n",
       "\n",
       "    .dataframe thead th {\n",
       "        text-align: right;\n",
       "    }\n",
       "</style>\n",
       "<table border=\"1\" class=\"dataframe\">\n",
       "  <thead>\n",
       "    <tr style=\"text-align: right;\">\n",
       "      <th></th>\n",
       "      <th>course_name</th>\n",
       "      <th>duration</th>\n",
       "    </tr>\n",
       "  </thead>\n",
       "  <tbody>\n",
       "    <tr>\n",
       "      <th>0</th>\n",
       "      <td>Data Science</td>\n",
       "      <td>2</td>\n",
       "    </tr>\n",
       "    <tr>\n",
       "      <th>1</th>\n",
       "      <td>Machine Learning</td>\n",
       "      <td>3</td>\n",
       "    </tr>\n",
       "    <tr>\n",
       "      <th>2</th>\n",
       "      <td>Big Data</td>\n",
       "      <td>6</td>\n",
       "    </tr>\n",
       "    <tr>\n",
       "      <th>3</th>\n",
       "      <td>Data Engineer</td>\n",
       "      <td>4</td>\n",
       "    </tr>\n",
       "  </tbody>\n",
       "</table>\n",
       "</div>"
      ],
      "text/plain": [
       "        course_name  duration\n",
       "0      Data Science         2\n",
       "1  Machine Learning         3\n",
       "2          Big Data         6\n",
       "3     Data Engineer         4"
      ]
     },
     "execution_count": 1,
     "metadata": {},
     "output_type": "execute_result"
    }
   ],
   "source": [
    "import pandas as pd\n",
    "course_name = ['Data Science', 'Machine Learning', 'Big Data', 'Data Engineer']\n",
    "duration = [2,3,6,4]\n",
    "df = pd.DataFrame(data = {'course_name' : course_name, 'duration' : duration})\n",
    "df"
   ]
  },
  {
   "cell_type": "code",
   "execution_count": 2,
   "id": "98b2504b-d084-4efc-b402-babb422dc1f2",
   "metadata": {},
   "outputs": [
    {
     "data": {
      "text/plain": [
       "course_name    Machine Learning\n",
       "duration                      3\n",
       "Name: 1, dtype: object"
      ]
     },
     "execution_count": 2,
     "metadata": {},
     "output_type": "execute_result"
    }
   ],
   "source": [
    "#Q1. Write a code to print the data present in the second row of the dataframe, df.\n",
    "\n",
    "df.loc[1]"
   ]
  },
  {
   "cell_type": "markdown",
   "id": "50858813-bdfe-47c9-9cce-0e2bd5446368",
   "metadata": {},
   "source": [
    "<hr>Q2. What is the difference between the functions loc and iloc in pandas.DataFrame?<br>\n",
    "Ans. The key difference between pandas loc[] and iloc[] is that loc obtains DataFrame columns and rows through names/labels whereas iloc[] obtains these through integer position/index.<hr>"
   ]
  },
  {
   "cell_type": "code",
   "execution_count": 3,
   "id": "e9d2edf5-0121-46e4-b76b-d120dc908f4d",
   "metadata": {},
   "outputs": [
    {
     "name": "stdout",
     "output_type": "stream",
     "text": [
      "course_name    Machine Learning\n",
      "duration                      3\n",
      "Name: 1, dtype: object\n"
     ]
    },
    {
     "data": {
      "text/plain": [
       "course_name    Big Data\n",
       "duration              6\n",
       "Name: 2, dtype: object"
      ]
     },
     "execution_count": 3,
     "metadata": {},
     "output_type": "execute_result"
    }
   ],
   "source": [
    "# Q3. Reindex the given dataframe using a variable, reindex = [3,0,1,2] and store it in the variable, new_df\n",
    "# then find the output for both new_df.loc[2] and new_df.iloc[2].\n",
    "\n",
    "dff = df.reindex([3,0,1,2])\n",
    "print(dff.iloc[2])\n",
    "dff.loc[2]"
   ]
  },
  {
   "cell_type": "code",
   "execution_count": 4,
   "id": "614c78a7-5e4c-4e98-8318-02b43c1b1955",
   "metadata": {},
   "outputs": [],
   "source": [
    "# Consider the below code to answer further questions:\n",
    "\n",
    "import numpy as np\n",
    "columns = ['column_1', 'column_2', 'column_3', 'column_4', 'column_5', 'column_6']\n",
    "indices = [1,2,3,4,5,6]\n",
    "#Creating a dataframe:\n",
    "df1 = pd.DataFrame(np.random.rand(6,6), columns = columns, index = indices)"
   ]
  },
  {
   "cell_type": "code",
   "execution_count": 5,
   "id": "9aca9a49-3ef8-42ed-8fa8-57a3df6665e4",
   "metadata": {},
   "outputs": [
    {
     "data": {
      "text/html": [
       "<div>\n",
       "<style scoped>\n",
       "    .dataframe tbody tr th:only-of-type {\n",
       "        vertical-align: middle;\n",
       "    }\n",
       "\n",
       "    .dataframe tbody tr th {\n",
       "        vertical-align: top;\n",
       "    }\n",
       "\n",
       "    .dataframe thead th {\n",
       "        text-align: right;\n",
       "    }\n",
       "</style>\n",
       "<table border=\"1\" class=\"dataframe\">\n",
       "  <thead>\n",
       "    <tr style=\"text-align: right;\">\n",
       "      <th></th>\n",
       "      <th>column_1</th>\n",
       "      <th>column_2</th>\n",
       "      <th>column_3</th>\n",
       "      <th>column_4</th>\n",
       "      <th>column_5</th>\n",
       "      <th>column_6</th>\n",
       "    </tr>\n",
       "  </thead>\n",
       "  <tbody>\n",
       "    <tr>\n",
       "      <th>1</th>\n",
       "      <td>0.156846</td>\n",
       "      <td>0.330000</td>\n",
       "      <td>0.400677</td>\n",
       "      <td>0.245962</td>\n",
       "      <td>0.167269</td>\n",
       "      <td>0.369341</td>\n",
       "    </tr>\n",
       "    <tr>\n",
       "      <th>2</th>\n",
       "      <td>0.992258</td>\n",
       "      <td>0.673265</td>\n",
       "      <td>0.558518</td>\n",
       "      <td>0.454436</td>\n",
       "      <td>0.904462</td>\n",
       "      <td>0.040545</td>\n",
       "    </tr>\n",
       "    <tr>\n",
       "      <th>3</th>\n",
       "      <td>0.413549</td>\n",
       "      <td>0.076798</td>\n",
       "      <td>0.567042</td>\n",
       "      <td>0.948412</td>\n",
       "      <td>0.601983</td>\n",
       "      <td>0.499661</td>\n",
       "    </tr>\n",
       "    <tr>\n",
       "      <th>4</th>\n",
       "      <td>0.249402</td>\n",
       "      <td>0.209373</td>\n",
       "      <td>0.368115</td>\n",
       "      <td>0.741173</td>\n",
       "      <td>0.637690</td>\n",
       "      <td>0.216547</td>\n",
       "    </tr>\n",
       "    <tr>\n",
       "      <th>5</th>\n",
       "      <td>0.159797</td>\n",
       "      <td>0.996019</td>\n",
       "      <td>0.582829</td>\n",
       "      <td>0.555982</td>\n",
       "      <td>0.130417</td>\n",
       "      <td>0.165551</td>\n",
       "    </tr>\n",
       "    <tr>\n",
       "      <th>6</th>\n",
       "      <td>0.686569</td>\n",
       "      <td>0.886138</td>\n",
       "      <td>0.479864</td>\n",
       "      <td>0.892832</td>\n",
       "      <td>0.256100</td>\n",
       "      <td>0.611068</td>\n",
       "    </tr>\n",
       "  </tbody>\n",
       "</table>\n",
       "</div>"
      ],
      "text/plain": [
       "   column_1  column_2  column_3  column_4  column_5  column_6\n",
       "1  0.156846  0.330000  0.400677  0.245962  0.167269  0.369341\n",
       "2  0.992258  0.673265  0.558518  0.454436  0.904462  0.040545\n",
       "3  0.413549  0.076798  0.567042  0.948412  0.601983  0.499661\n",
       "4  0.249402  0.209373  0.368115  0.741173  0.637690  0.216547\n",
       "5  0.159797  0.996019  0.582829  0.555982  0.130417  0.165551\n",
       "6  0.686569  0.886138  0.479864  0.892832  0.256100  0.611068"
      ]
     },
     "execution_count": 5,
     "metadata": {},
     "output_type": "execute_result"
    }
   ],
   "source": [
    "df1"
   ]
  },
  {
   "cell_type": "markdown",
   "id": "f8ecef42-3533-48f3-9dc8-1e9b78a060dc",
   "metadata": {},
   "source": [
    "<hr>Q4. Write a code to find the following statistical measurements for the above dataframe df1:\n",
    "(i) mean of each and every column present in the dataframe.\n",
    "(ii) standard deviation of column, ‘column_2’"
   ]
  },
  {
   "cell_type": "code",
   "execution_count": 6,
   "id": "ce55d06c-3898-4003-a339-201382130084",
   "metadata": {},
   "outputs": [
    {
     "data": {
      "text/plain": [
       "column_1    0.443070\n",
       "column_2    0.528599\n",
       "column_3    0.492841\n",
       "column_4    0.639799\n",
       "column_5    0.449653\n",
       "column_6    0.317119\n",
       "dtype: float64"
      ]
     },
     "execution_count": 6,
     "metadata": {},
     "output_type": "execute_result"
    }
   ],
   "source": [
    "df1.apply(lambda x: x.mean())"
   ]
  },
  {
   "cell_type": "code",
   "execution_count": 7,
   "id": "c99eba79-b84d-47f4-ba11-61f079ed5dda",
   "metadata": {},
   "outputs": [
    {
     "data": {
      "text/plain": [
       "0.3775485113802719"
      ]
     },
     "execution_count": 7,
     "metadata": {},
     "output_type": "execute_result"
    }
   ],
   "source": [
    "df1.column_2.std()"
   ]
  },
  {
   "cell_type": "markdown",
   "id": "e756d2c8-fbeb-4a66-86a5-07fc39e8458c",
   "metadata": {},
   "source": [
    "<hr>Q5. Replace the data present in the second row of column, ‘column_2’ by a string variable then find the\n",
    "mean of column, column_2."
   ]
  },
  {
   "cell_type": "code",
   "execution_count": 8,
   "id": "dc51673c-2175-485e-a926-6a6a1fa83e19",
   "metadata": {},
   "outputs": [
    {
     "data": {
      "text/html": [
       "<div>\n",
       "<style scoped>\n",
       "    .dataframe tbody tr th:only-of-type {\n",
       "        vertical-align: middle;\n",
       "    }\n",
       "\n",
       "    .dataframe tbody tr th {\n",
       "        vertical-align: top;\n",
       "    }\n",
       "\n",
       "    .dataframe thead th {\n",
       "        text-align: right;\n",
       "    }\n",
       "</style>\n",
       "<table border=\"1\" class=\"dataframe\">\n",
       "  <thead>\n",
       "    <tr style=\"text-align: right;\">\n",
       "      <th></th>\n",
       "      <th>column_1</th>\n",
       "      <th>column_2</th>\n",
       "      <th>column_3</th>\n",
       "      <th>column_4</th>\n",
       "      <th>column_5</th>\n",
       "      <th>column_6</th>\n",
       "    </tr>\n",
       "  </thead>\n",
       "  <tbody>\n",
       "    <tr>\n",
       "      <th>1</th>\n",
       "      <td>0.156846</td>\n",
       "      <td>0.33</td>\n",
       "      <td>0.400677</td>\n",
       "      <td>0.245962</td>\n",
       "      <td>0.167269</td>\n",
       "      <td>0.369341</td>\n",
       "    </tr>\n",
       "    <tr>\n",
       "      <th>2</th>\n",
       "      <td>0.992258</td>\n",
       "      <td>harsh</td>\n",
       "      <td>0.558518</td>\n",
       "      <td>0.454436</td>\n",
       "      <td>0.904462</td>\n",
       "      <td>0.040545</td>\n",
       "    </tr>\n",
       "    <tr>\n",
       "      <th>3</th>\n",
       "      <td>0.413549</td>\n",
       "      <td>0.076798</td>\n",
       "      <td>0.567042</td>\n",
       "      <td>0.948412</td>\n",
       "      <td>0.601983</td>\n",
       "      <td>0.499661</td>\n",
       "    </tr>\n",
       "    <tr>\n",
       "      <th>4</th>\n",
       "      <td>0.249402</td>\n",
       "      <td>0.209373</td>\n",
       "      <td>0.368115</td>\n",
       "      <td>0.741173</td>\n",
       "      <td>0.637690</td>\n",
       "      <td>0.216547</td>\n",
       "    </tr>\n",
       "    <tr>\n",
       "      <th>5</th>\n",
       "      <td>0.159797</td>\n",
       "      <td>0.996019</td>\n",
       "      <td>0.582829</td>\n",
       "      <td>0.555982</td>\n",
       "      <td>0.130417</td>\n",
       "      <td>0.165551</td>\n",
       "    </tr>\n",
       "    <tr>\n",
       "      <th>6</th>\n",
       "      <td>0.686569</td>\n",
       "      <td>0.886138</td>\n",
       "      <td>0.479864</td>\n",
       "      <td>0.892832</td>\n",
       "      <td>0.256100</td>\n",
       "      <td>0.611068</td>\n",
       "    </tr>\n",
       "  </tbody>\n",
       "</table>\n",
       "</div>"
      ],
      "text/plain": [
       "   column_1  column_2  column_3  column_4  column_5  column_6\n",
       "1  0.156846      0.33  0.400677  0.245962  0.167269  0.369341\n",
       "2  0.992258     harsh  0.558518  0.454436  0.904462  0.040545\n",
       "3  0.413549  0.076798  0.567042  0.948412  0.601983  0.499661\n",
       "4  0.249402  0.209373  0.368115  0.741173  0.637690  0.216547\n",
       "5  0.159797  0.996019  0.582829  0.555982  0.130417  0.165551\n",
       "6  0.686569  0.886138  0.479864  0.892832  0.256100  0.611068"
      ]
     },
     "execution_count": 8,
     "metadata": {},
     "output_type": "execute_result"
    }
   ],
   "source": [
    "df1.loc[2,\"column_2\"] = \"harsh\"\n",
    "df1"
   ]
  },
  {
   "cell_type": "code",
   "execution_count": 9,
   "id": "83701e7f-7aec-4722-82ee-2f01696af427",
   "metadata": {},
   "outputs": [],
   "source": [
    "# df1.column_2.mean()  # we got error beacuse mean of str and float variable is not possible."
   ]
  },
  {
   "cell_type": "markdown",
   "id": "ef1a91b3-2d61-447c-93a4-4b3dd680d74e",
   "metadata": {},
   "source": [
    "<hr>Q6. What do you understand about the windows function in pandas and list the types of windows functions?<br>\n",
    "Ans. Pandas Window functions are functions where the input values are taken from a “window” of one or more rows in a series or a table and calculation is performed over them. Aggergate function, value function are exammples of windows function.<hr>"
   ]
  },
  {
   "cell_type": "markdown",
   "id": "466077ba-f03e-4273-b8cd-e3c1e92de75a",
   "metadata": {},
   "source": [
    "Q7. Write a code to print only the current month and year at the time of answering this question."
   ]
  },
  {
   "cell_type": "code",
   "execution_count": 10,
   "id": "7f032eb7-34d3-4888-9084-158a2d30b2ac",
   "metadata": {},
   "outputs": [
    {
     "data": {
      "text/plain": [
       "(6, 2023)"
      ]
     },
     "execution_count": 10,
     "metadata": {},
     "output_type": "execute_result"
    }
   ],
   "source": [
    "import pandas as pd\n",
    "from datetime import datetime\n",
    "\n",
    "current_date = datetime.now()\n",
    "df = pd.to_datetime(current_date)\n",
    "month = df.month\n",
    "year = df.year\n",
    "month,year"
   ]
  },
  {
   "cell_type": "markdown",
   "id": "90ed50cd-8220-4658-8d87-182b12067680",
   "metadata": {},
   "source": [
    "<hr>Q8. Write a Python program that takes in two dates as input (in the format YYYY-MM-DD) and\n",
    "calculates the difference between them in days, hours, and minutes using Pandas time delta. The\n",
    "program should prompt the user to enter the dates and display the result."
   ]
  },
  {
   "cell_type": "code",
   "execution_count": 11,
   "id": "5e07e812-b88a-4cc3-9cd7-c94baeb42494",
   "metadata": {},
   "outputs": [
    {
     "name": "stdin",
     "output_type": "stream",
     "text": [
      "Enter the start date (YYYY-MM-DD):  2023-05-23\n",
      "Enter the end date (YYYY-MM-DD):  2023-07-30\n"
     ]
    },
    {
     "data": {
      "text/plain": [
       "(68, 0, 0)"
      ]
     },
     "execution_count": 11,
     "metadata": {},
     "output_type": "execute_result"
    }
   ],
   "source": [
    "start_date = input(\"Enter the start date (YYYY-MM-DD): \")\n",
    "end_date = input(\"Enter the end date (YYYY-MM-DD): \")\n",
    "\n",
    "start_time_stamp = pd.Timestamp(start_date)\n",
    "end_time_stamep = pd.Timestamp(end_date)\n",
    "\n",
    "diff = end_time_stamep - start_time_stamp\n",
    "\n",
    "days = diff.days\n",
    "hours = diff.components.hours\n",
    "minutes = diff.components.minutes\n",
    "days,hours,minutes"
   ]
  },
  {
   "cell_type": "markdown",
   "id": "584fd84f-cd35-4054-907e-ababe3aaaf51",
   "metadata": {},
   "source": [
    "<hr>Q9. Write a Python program that reads a CSV file containing categorical data and converts a specified\n",
    "column to a categorical data type. The program should prompt the user to enter the file path, column\n",
    "name, and category order, and then display the sorted data."
   ]
  },
  {
   "cell_type": "code",
   "execution_count": 12,
   "id": "4d721e9a-7543-4849-addc-fb18ac0c4be8",
   "metadata": {},
   "outputs": [
    {
     "data": {
      "text/html": [
       "<div>\n",
       "<style scoped>\n",
       "    .dataframe tbody tr th:only-of-type {\n",
       "        vertical-align: middle;\n",
       "    }\n",
       "\n",
       "    .dataframe tbody tr th {\n",
       "        vertical-align: top;\n",
       "    }\n",
       "\n",
       "    .dataframe thead th {\n",
       "        text-align: right;\n",
       "    }\n",
       "</style>\n",
       "<table border=\"1\" class=\"dataframe\">\n",
       "  <thead>\n",
       "    <tr style=\"text-align: right;\">\n",
       "      <th></th>\n",
       "      <th>Student ID</th>\n",
       "      <th>Test Score</th>\n",
       "    </tr>\n",
       "  </thead>\n",
       "  <tbody>\n",
       "    <tr>\n",
       "      <th>3</th>\n",
       "      <td>4</td>\n",
       "      <td>75</td>\n",
       "    </tr>\n",
       "    <tr>\n",
       "      <th>6</th>\n",
       "      <td>7</td>\n",
       "      <td>78</td>\n",
       "    </tr>\n",
       "    <tr>\n",
       "      <th>2</th>\n",
       "      <td>3</td>\n",
       "      <td>80</td>\n",
       "    </tr>\n",
       "    <tr>\n",
       "      <th>5</th>\n",
       "      <td>6</td>\n",
       "      <td>82</td>\n",
       "    </tr>\n",
       "    <tr>\n",
       "      <th>0</th>\n",
       "      <td>1</td>\n",
       "      <td>85</td>\n",
       "    </tr>\n",
       "    <tr>\n",
       "      <th>4</th>\n",
       "      <td>5</td>\n",
       "      <td>85</td>\n",
       "    </tr>\n",
       "    <tr>\n",
       "      <th>7</th>\n",
       "      <td>8</td>\n",
       "      <td>85</td>\n",
       "    </tr>\n",
       "    <tr>\n",
       "      <th>9</th>\n",
       "      <td>10</td>\n",
       "      <td>85</td>\n",
       "    </tr>\n",
       "    <tr>\n",
       "      <th>1</th>\n",
       "      <td>2</td>\n",
       "      <td>90</td>\n",
       "    </tr>\n",
       "    <tr>\n",
       "      <th>8</th>\n",
       "      <td>9</td>\n",
       "      <td>90</td>\n",
       "    </tr>\n",
       "  </tbody>\n",
       "</table>\n",
       "</div>"
      ],
      "text/plain": [
       "   Student ID Test Score\n",
       "3           4         75\n",
       "6           7         78\n",
       "2           3         80\n",
       "5           6         82\n",
       "0           1         85\n",
       "4           5         85\n",
       "7           8         85\n",
       "9          10         85\n",
       "1           2         90\n",
       "8           9         90"
      ]
     },
     "execution_count": 12,
     "metadata": {},
     "output_type": "execute_result"
    }
   ],
   "source": [
    "df = pd.read_csv(\"data.csv\")\n",
    "df[\"Test Score\"]= pd.Categorical(df[\"Test Score\"])\n",
    "df.sort_values(\"Test Score\")"
   ]
  },
  {
   "cell_type": "markdown",
   "id": "696b9a58-ec9d-466b-8b24-49a881771257",
   "metadata": {},
   "source": [
    "<hr>\n",
    "Q10. Write a Python program that reads a CSV file containing sales data for different products and\n",
    "visualizes the data using a stacked bar chart to show the sales of each product category over time. The\n",
    "program should prompt the user to enter the file path and display the chart."
   ]
  },
  {
   "cell_type": "code",
   "execution_count": 13,
   "id": "5761a542-5945-4fd5-9bc6-3606b3496313",
   "metadata": {},
   "outputs": [
    {
     "name": "stdout",
     "output_type": "stream",
     "text": [
      "           Sales          \n",
      "Type           A    B    C\n",
      "Date                      \n",
      "2023-01-01   300  150  200\n",
      "2023-02-01   120  180  220\n",
      "2023-03-01   130  170  210\n"
     ]
    },
    {
     "data": {
      "text/plain": [
       "<AxesSubplot: xlabel='Date'>"
      ]
     },
     "execution_count": 13,
     "metadata": {},
     "output_type": "execute_result"
    },
    {
     "data": {
      "image/png": "[encoded data removed]",
      "text/plain": [
       "<Figure size 1000x600 with 1 Axes>"
      ]
     },
     "metadata": {},
     "output_type": "display_data"
    }
   ],
   "source": [
    "df = pd.read_csv(\"data2.csv\")\n",
    "grouped_data = df.groupby(['Date', 'Type']).sum().unstack()   #unstack is used for multi index\n",
    "print(grouped_data)\n",
    "# Plotting the stacked bar chart\n",
    "grouped_data.plot.bar(figsize=(10, 6))"
   ]
  },
  {
   "cell_type": "markdown",
   "id": "7792f33c-d5a9-4762-bc89-fbd22d4e8d32",
   "metadata": {},
   "source": [
    "<hr>Q11. You are given a CSV file containing student data that includes the student ID and their test score. Write\n",
    "a Python program that reads the CSV file, calculates the mean, median, and mode of the test scores, and\n",
    "displays the results in a table."
   ]
  },
  {
   "cell_type": "code",
   "execution_count": 14,
   "id": "5bd495fc-1a52-43da-b14e-9250858c1d48",
   "metadata": {},
   "outputs": [
    {
     "data": {
      "text/html": [
       "<div>\n",
       "<style scoped>\n",
       "    .dataframe tbody tr th:only-of-type {\n",
       "        vertical-align: middle;\n",
       "    }\n",
       "\n",
       "    .dataframe tbody tr th {\n",
       "        vertical-align: top;\n",
       "    }\n",
       "\n",
       "    .dataframe thead th {\n",
       "        text-align: right;\n",
       "    }\n",
       "</style>\n",
       "<table border=\"1\" class=\"dataframe\">\n",
       "  <thead>\n",
       "    <tr style=\"text-align: right;\">\n",
       "      <th></th>\n",
       "      <th>Statics</th>\n",
       "      <th>values</th>\n",
       "    </tr>\n",
       "  </thead>\n",
       "  <tbody>\n",
       "    <tr>\n",
       "      <th>0</th>\n",
       "      <td>mean</td>\n",
       "      <td>83.5</td>\n",
       "    </tr>\n",
       "    <tr>\n",
       "      <th>1</th>\n",
       "      <td>median</td>\n",
       "      <td>85.0</td>\n",
       "    </tr>\n",
       "    <tr>\n",
       "      <th>2</th>\n",
       "      <td>mode</td>\n",
       "      <td>85.0</td>\n",
       "    </tr>\n",
       "  </tbody>\n",
       "</table>\n",
       "</div>"
      ],
      "text/plain": [
       "  Statics  values\n",
       "0    mean    83.5\n",
       "1  median    85.0\n",
       "2    mode    85.0"
      ]
     },
     "execution_count": 14,
     "metadata": {},
     "output_type": "execute_result"
    }
   ],
   "source": [
    "df = pd.read_csv(\"data.csv\")\n",
    "mean = df[\"Test Score\"].mean()\n",
    "median = df[\"Test Score\"].median()\n",
    "mode = df[\"Test Score\"].mode()[0]\n",
    "\n",
    "dff = pd.DataFrame({\"Statics\":['mean','median','mode'],\"values\":[mean,median,mode]})\n",
    "dff"
   ]
  },
  {
   "cell_type": "code",
   "execution_count": null,
   "id": "b934f755-d45a-46ce-84bb-7c21ab948e82",
   "metadata": {},
   "outputs": [],
   "source": []
  }
 ],
 "metadata": {
  "kernelspec": {
   "display_name": "Python 3 (ipykernel)",
   "language": "python",
   "name": "python3"
  },
  "language_info": {
   "codemirror_mode": {
    "name": "ipython",
    "version": 3
   },
   "file_extension": ".py",
   "mimetype": "text/x-python",
   "name": "python",
   "nbconvert_exporter": "python",
   "pygments_lexer": "ipython3",
   "version": "3.10.8"
  }
 },
 "nbformat": 4,
 "nbformat_minor": 5
}
