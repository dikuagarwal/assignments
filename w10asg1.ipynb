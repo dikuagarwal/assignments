{
 "cells": [
  {
   "cell_type": "markdown",
   "id": "9d434ca7-0bbc-4844-bb6d-dcf9aa691741",
   "metadata": {},
   "source": [
    "Q1. What is the Probability density function?<br>\n",
    "Ans. The Probability Density Function(PDF) is a probability function that describe the probability distribution of a continuous random variable. The PDF provides the relative likelihood of the random variable falling within a particular range. Higher values of the PDF indicate that the variable is more likely to be found in that region, while lower values indicate lower likelihood.<hr>"
   ]
  },
  {
   "cell_type": "markdown",
   "id": "636fe3e3-3219-4b23-b5b6-6d142e895a5c",
   "metadata": {},
   "source": [
    "Q2. What are the types of Probability distribution?<br>\n",
    "Ans. there are many types of probality distribution like\n",
    "- binomial distribution\n",
    "- bernoli distribution\n",
    "- poisson distribution\n",
    "- norml or gaussian distribution\n",
    "- uniform distribution\n",
    "- log normal distribution\n",
    "\n",
    "<hr>"
   ]
  },
  {
   "cell_type": "markdown",
   "id": "b3959b9d-769e-47b1-9ecc-e09752b1731a",
   "metadata": {},
   "source": [
    "Q3. Write a Python function to calculate the probability density function of a normal distribution with\n",
    "given mean and standard deviation at a given point."
   ]
  },
  {
   "cell_type": "code",
   "execution_count": 1,
   "id": "4dd69b28-6634-405b-a768-b5295fbbad81",
   "metadata": {},
   "outputs": [
    {
     "name": "stdout",
     "output_type": "stream",
     "text": [
      "0.12951759566589174\n"
     ]
    }
   ],
   "source": [
    "import math\n",
    "def pdf(x,u,s):\n",
    "    c = 1 / (s * math.sqrt(2* math.pi))\n",
    "    e = -0.5 * ((x - u) / s) ** 2  \n",
    "    exp = math.exp(e)\n",
    "    value = c * exp \n",
    "    return value\n",
    "\n",
    "print(pdf(1.5,0,1))"
   ]
  },
  {
   "cell_type": "markdown",
   "id": "a931469b-7baf-41c3-9a03-31462b4e5b6f",
   "metadata": {},
   "source": [
    "<hr> Q4. What are the properties of Binomial distribution? Give two examples of events where binomial\n",
    "distribution can be applied.<br>\n",
    "Ans. Binomial distribution is type of a discreate probality distribution of a discreate random variable, basically it is used to model the number of success in a fixed number of trails where each events have only two possible outcomes either true or false. if the number of evnets is 1 then it's called bernoli distribution. properties are:<\n",
    "\n",
    "- Mean and Variance: The mean (expected value) of the binomial distribution is μ = n * p, and the variance is σ^2 = n * p * (1 - p).\n",
    "- Range of Values: The possible values of the binomial distribution range from 0 to n.\n",
    "- Symmetry (when p = 0.5): If the probability of success (p) is 0.5, the binomial distribution is symmetric.\n",
    "- In this case, the peak of the distribution occurs at the midpoint between the minimum(0) and maximum (n)number of successes.<br>\n",
    "\n",
    "flipping a coin n times and find probality of getting head, it's probality distribution is example of binomial distribution.<br>\n",
    "The binomial distribution can be used to model the number of positive covid test results in a fixed number of tests.<br>\n",
    "The binomial distribution can be used to model the number of defective items in a fixed batch size.<hr>"
   ]
  },
  {
   "cell_type": "markdown",
   "id": "683f0ca5-5566-4899-b130-5fbfc72a9ca3",
   "metadata": {},
   "source": [
    "Q5. Generate a random sample of size 1000 from a binomial distribution with probability of success 0.4\n",
    "and plot a histogram of the results using matplotlib."
   ]
  },
  {
   "cell_type": "code",
   "execution_count": 2,
   "id": "afc98d8b-fa8b-4dac-8661-21d8f65becf1",
   "metadata": {},
   "outputs": [
    {
     "data": {
      "image/png": "[encoded data removed]",
      "text/plain": [
       "<Figure size 640x480 with 1 Axes>"
      ]
     },
     "metadata": {},
     "output_type": "display_data"
    }
   ],
   "source": [
    "import matplotlib.pyplot as plt\n",
    "import numpy as np\n",
    "ss = 1000\n",
    "ps = 0.4\n",
    "data = np.random.binomial(1,ps,ss)  # \n",
    "data\n",
    "plt.hist(data, bins=2, align='mid', rwidth=0.8, color='blue', alpha=0.7)\n",
    "plt.xlabel(\"Number of Successes\")\n",
    "plt.ylabel(\"Frequency\")\n",
    "plt.title(f\"Histogram of Random Sample from Binomial Distribution (p={ps})\")\n",
    "plt.xticks([0, 1], ['Failure', 'Success'])\n",
    "plt.show()"
   ]
  },
  {
   "cell_type": "markdown",
   "id": "51603da1-bf84-4276-a3b5-719d85b99af8",
   "metadata": {},
   "source": [
    "Q6. Write a Python function to calculate the cumulative distribution function of a Poisson distribution\n",
    "with given mean at a given point.<br>\n",
    "\n",
    "CDF of the Poisson distribution:\n",
    "\n",
    "CDF(k; λ) = Σ (e^(-λ) * λ^i) / i! <br> \n",
    "here i vary from 0 to k (including k) and λ is mean here."
   ]
  },
  {
   "cell_type": "code",
   "execution_count": 3,
   "id": "62edf5d2-e2b9-4635-92c9-ea7dc9b789e0",
   "metadata": {},
   "outputs": [
    {
     "name": "stdout",
     "output_type": "stream",
     "text": [
      "0.7575761331330659\n"
     ]
    }
   ],
   "source": [
    "import math\n",
    "point = 3\n",
    "mean = 2.5\n",
    "def cdf(p,m):\n",
    "    c = 0\n",
    "    for i in range(p+1):\n",
    "        c+= (math.exp(-m) * mean**i) / math.factorial(i)\n",
    "    return c\n",
    "print(cdf(point,mean))"
   ]
  },
  {
   "cell_type": "markdown",
   "id": "62dfc145-15dd-4caf-aaa5-c495a6843139",
   "metadata": {},
   "source": [
    "<hr>Q7. How Binomial distribution different from Poisson distribution?<br>\n",
    "Ans. Binomial distribution is used to model the number of success in a fixed number of trails where each trail have only two outcomes but poission distribution is used to model the number of event occurs in a fixed interval of time and space.<hr>"
   ]
  },
  {
   "cell_type": "markdown",
   "id": "99b9f5db-8264-43ec-9d28-059bd8f0e1b6",
   "metadata": {},
   "source": [
    "Q8. Generate a random sample of size 1000 from a Poisson distribution with mean 5 and calculate the\n",
    "sample mean and variance."
   ]
  },
  {
   "cell_type": "code",
   "execution_count": 4,
   "id": "a8121355-a68b-4ec2-9577-f951c96c5b80",
   "metadata": {},
   "outputs": [
    {
     "name": "stdout",
     "output_type": "stream",
     "text": [
      "sample variance: 5.007804\n",
      "sample mean: 5.014\n"
     ]
    }
   ],
   "source": [
    "mean = 5\n",
    "ss = 1000\n",
    "data = np.random.poisson(mean , ss)\n",
    "data\n",
    "print(f\"sample variance: {np.var(data)}\")\n",
    "print(f\"sample mean: {np.mean(data)}\")"
   ]
  },
  {
   "cell_type": "markdown",
   "id": "12d7e265-3d8a-4bef-9b55-f3c53ead5632",
   "metadata": {},
   "source": [
    "<hr>Q9. How mean and variance are related in Binomial distribution and Poisson distribution?<br>\n",
    "Ans. In binomial distribution mean  = (no of trails(n) * probality of sucess(p) ) and variance is \"n*p*(1-p)\" or \"(mean * probality of failure)\" and In Poisson distribution mean and variance is approximatly same and it is = \"(expected no of events occured at every time interval) * (time interval)\"<hr>"
   ]
  },
  {
   "cell_type": "markdown",
   "id": "bb8b67a6-ce62-41ea-a855-ca8a5c4a093e",
   "metadata": {},
   "source": [
    "Q10. In normal distribution with respect to mean position, where does the least frequent data appear?<br>\n",
    "Ans. The highest frequency of data occurs at the mean, as it is the central value around which the data is symmetrically distributed. As you move away from the mean towards the tails of the distribution, the frequency of data points decreases. The data points near the tails of the distribution are less likely to occur because the probability density decreases rapidly away from the mean. so the least frequent data appears at the tails of the distribution.<hr>"
   ]
  }
 ],
 "metadata": {
  "kernelspec": {
   "display_name": "Python 3 (ipykernel)",
   "language": "python",
   "name": "python3"
  },
  "language_info": {
   "codemirror_mode": {
    "name": "ipython",
    "version": 3
   },
   "file_extension": ".py",
   "mimetype": "text/x-python",
   "name": "python",
   "nbconvert_exporter": "python",
   "pygments_lexer": "ipython3",
   "version": "3.10.8"
  }
 },
 "nbformat": 4,
 "nbformat_minor": 5
}
