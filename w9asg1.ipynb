{
 "cells": [
  {
   "cell_type": "markdown",
   "id": "ef4cec94-44fa-49ef-9fb1-9fd20eb08fff",
   "metadata": {},
   "source": [
    "Q1. What is Statistics?<br>\n",
    "Ans. Statistics is the science of collecting, oraganizing and analzing the data. It's helps in dectision making process in buisness and instituition.\n",
    "<hr>"
   ]
  },
  {
   "cell_type": "markdown",
   "id": "f2554584-0225-41bd-af93-c6c35151b8ef",
   "metadata": {},
   "source": [
    "Q2. Define the different types of statistics and give an example of when each type might be used.<br>\n",
    "Ans. Mostly there are two type of statistics: 1. Descreptive 2. Inferential statistics. Descreptive statistics focused on organizing and summarizing the data, ex: finding the average age and height of the class, varience in height, mesare of dispersion etc. inferancial statics focus on making conclusion about population data based on sample data.<hr>"
   ]
  },
  {
   "cell_type": "markdown",
   "id": "4c4e5a82-0091-40a9-b559-e460d9538b76",
   "metadata": {},
   "source": [
    "Q3. What are the different types of data and how do they differ from each other? Provide an example of\n",
    "each type of data.<br>\n",
    "Ans. Mainly two types of data: 1. Quantitive 2. Categorical data. Quantitive data is the data that can be measured in numerical value. ex: no of student in class, your account number etc. and qualitative or cateogorical data is the data that can not be measured in numerical values. ex: gender type, customer reviews etc. <hr>"
   ]
  },
  {
   "cell_type": "markdown",
   "id": "a9f6f560-bc09-4d28-9ed0-0cbf4d5e4cb4",
   "metadata": {},
   "source": [
    "Q4. Categorise the following datasets with respect to quantitative and qualitative data types:<br>\n",
    "(i) Grading in exam: A+, A, B+, B, C+, C, D, E --- Ans. qualitative data<br>\n",
    "(ii) Colour of mangoes: yellow, green, orange, red---- Ans. Qualitive data<br>\n",
    "(iii) Height data of a class: [178.9, 179, 179.5, 176, 177.2, 178.3, 175.8,...] --- Ans. quantitive data<br>\n",
    "(iv) Number of mangoes exported by a farm: [500, 600, 478, 672, ...]----- Ans. Quantitative data<hr>"
   ]
  },
  {
   "cell_type": "markdown",
   "id": "93ef6afc-481f-4110-9156-01199d345891",
   "metadata": {},
   "source": [
    "Q5. Explain the concept of levels of measurement and give an example of a variable for each level.<br>\n",
    "Ans. level of measurement refer to the different ways in which variables can be measured or classified. These levels indicate the nature and characteristics of the data and determine the types of statistical analyses that can be performed on them. There are four commonly recognized levels of measurement: nominal, ordinal, interval, and ratio.<hr>"
   ]
  },
  {
   "cell_type": "markdown",
   "id": "c79e5003-251c-409d-ac1a-f175f69f8e64",
   "metadata": {},
   "source": [
    "Q6. Why is it important to understand the level of measurement when analyzing data? Provide an\n",
    "example to illustrate your answer.<br>\n",
    "Ans. These levels indicate the nature and characteristics of the data and determine the types of statistical analyses that can be performed on them. \n",
    "\n",
    "Here's an example to illustrate this: Let's say we have a dataset consisting of the heights of individuals from a sample population. We want to analyze this data to understand the relationship between height and weight. The level of measurement for the variables 'height' and 'weight' is ratio since they possess all the properties of interval data and have a meaningful zero point.\n",
    "Suppose we mistakenly treat the height variable as ordinal, which implies that the heights are merely ranked without considering the magnitude of differences between them. In this case, we might use a non-parametric statistical test, like the Mann-Whitney U test, which is appropriate for ordinal data. However, by doing so, we ignore the precise measurements and the meaningful ratios between height values. This can lead to an incorrect analysis and misinterpretation of the relationship between height and weight.<hr>"
   ]
  },
  {
   "cell_type": "markdown",
   "id": "9bb328b4-4fc9-4cb2-8762-45325e96775f",
   "metadata": {},
   "source": [
    "Q7. How nominal data type is different from ordinal data type.<br>\n",
    "Ans. In Nominal data type rank and order does not matter but in case of ordinal data type rank and order's matters.<hr>"
   ]
  },
  {
   "cell_type": "markdown",
   "id": "133538c6-0200-40c0-adf7-54e6a0ed193a",
   "metadata": {},
   "source": [
    "Q8. Which type of plot can be used to display data in terms of range?<br>\n",
    "Ans. Boxplot and histogram plot. <hr>"
   ]
  },
  {
   "cell_type": "markdown",
   "id": "4b889a4c-515c-4643-8c99-2ee6517874ea",
   "metadata": {},
   "source": [
    "Q9. Describe the difference between descriptive and inferential statistics. Give an example of each\n",
    "type of statistics and explain how they are used.<br>\n",
    "Ans. Main difference is descreptive staistics focused on sumerazing the data nd inferential statistics focused on make conclusion about population data based on sample data. ex: exit poll of any state elction is example of inferential statics in this case agency tooked the sample size and predict the result of the election based on that sample data.<hr> "
   ]
  },
  {
   "cell_type": "markdown",
   "id": "870f119f-d602-4c17-93cc-4c186970f923",
   "metadata": {},
   "source": [
    "Q10. What are some common measures of central tendency and variability used in statistics? Explain\n",
    "how each measure can be used to describe a dataset.<br>\n",
    "Ans. Mean, median, mode, varriance and standard deviation are some common measure in statistics. mean and median is used to find centeral tendency, median is use in case of outliers present and mode is used to find maximum frequency in data set. varriance and std is used to find spreadness of data or dispersion of data.<hr>"
   ]
  },
  {
   "cell_type": "code",
   "execution_count": null,
   "id": "bc83d655-ce67-4343-8fae-4bb6437e7e2b",
   "metadata": {},
   "outputs": [],
   "source": []
  }
 ],
 "metadata": {
  "kernelspec": {
   "display_name": "Python 3 (ipykernel)",
   "language": "python",
   "name": "python3"
  },
  "language_info": {
   "codemirror_mode": {
    "name": "ipython",
    "version": 3
   },
   "file_extension": ".py",
   "mimetype": "text/x-python",
   "name": "python",
   "nbconvert_exporter": "python",
   "pygments_lexer": "ipython3",
   "version": "3.10.8"
  }
 },
 "nbformat": 4,
 "nbformat_minor": 5
}
