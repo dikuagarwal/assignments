{
 "cells": [
  {
   "cell_type": "markdown",
   "id": "d718ddd9-f645-48a5-85b4-c4f8dfe0d2d3",
   "metadata": {},
   "source": [
    "Q1. What is a database? Differentiate between SQL and NoSQL databases.<br>\n",
    "Ans. A database is an organized collection of structured or unstructured information, or data, typically stored electronically in a computer system. A database is usually controlled by a database management system (DBMS).<br>\n",
    "SQL databases are vertically scalable, while NoSQL databases are horizontally scalable. SQL databases are table-based, while NoSQL databases are document, key-value, graph, or wide-column stores. SQL databases are better for multi-row transactions, while NoSQL is better for unstructured data like documents or JSON. SQL databases are best suited for complex queries.<hr>"
   ]
  },
  {
   "cell_type": "markdown",
   "id": "6dde1b7c-aae4-4954-9c50-1991796bd7d1",
   "metadata": {},
   "source": [
    "Q2. What is DDL? Explain why CREATE, DROP, ALTER, and TRUNCATE are used with an example.<br>\n",
    "Ans. Data Definition Language(DDL) is a subset of SQL and a part of DBMS(Database Management System), DDL consist of Commands to commands like CREATE, ALTER, TRUNCATE and DROP. These commands are used to create or modify the tables in SQL.<br>\n",
    "Create tabe table_name(id int(200),name varchar(500), address varchar(500));<br>\n",
    "drop table table_name;<br>\n",
    "alter table table_name add co_name varchar(50);<br>\n",
    "Truncate table table_name;<hr>"
   ]
  },
  {
   "cell_type": "markdown",
   "id": "c7f4cbf7-a6b3-46e3-b0cc-d7eaf04447cd",
   "metadata": {},
   "source": [
    "Q3. What is DML? Explain INSERT, UPDATE, and DELETE with an example.<br>\n",
    "Ans. Data Manipulation Language(DML) is a class of SQL statements that are used to query, edit, add and delete row-level data from database tables.<br>\n",
    "Insert into table_name(col1,col2,col3) values (d1,d2,d3),(d4,d5,d6);<br>\n",
    "Update table_name set col_name = val where id = 5;<br>\n",
    "Delete from table_name where id = 5 and id = 6;<hr>"
   ]
  },
  {
   "cell_type": "markdown",
   "id": "f2888c8d-0690-430c-b74c-0389b308a7a2",
   "metadata": {},
   "source": [
    "Q4. What is DQL? Explain SELECT with an example.<br>\n",
    "Ans. Data Query Language(DQL)is a portion of a SQL statement that allows you to get and organise data from a database. You can use the SELECT command to extract data from a database in order to perform actions on it.<br>\n",
    "SELECT * from table_name where salary>50000;<hr>"
   ]
  },
  {
   "cell_type": "markdown",
   "id": "7f406d7d-3164-4066-bdcd-5a5dc97535b9",
   "metadata": {},
   "source": [
    "Q5. Explain Primary Key and Foreign Key.<br>\n",
    "Ans. The primary key is a unique or non-null key that uniquely identifies every record in a table or relation. The primary key column can't store duplicate values. A table can contain only one primary key.<br>\n",
    "The foreign key is a group of one or more columns in a database to uniquely identify another database record in some other table to maintain the referential integrity. It is also known as the referencing key that establishes a relationship between two different tables in a database. A foreign key always matches the primary key column in another table. It means a foreign key column in one table refers to the primary key column of another table. <hr>"
   ]
  },
  {
   "cell_type": "markdown",
   "id": "6bb195c2-1456-4b50-aff4-64c59fcd1644",
   "metadata": {},
   "source": [
    "Q6. Write a python code to connect MySQL to python. Explain the cursor() and execute() method.<br>\n"
   ]
  },
  {
   "cell_type": "code",
   "execution_count": 6,
   "id": "9d7e6231-dd11-41c5-8f68-e606d34ef408",
   "metadata": {},
   "outputs": [],
   "source": [
    "# pip install mysql-connector-python"
   ]
  },
  {
   "cell_type": "raw",
   "id": "c95ce709-d322-4051-8097-1c647607b354",
   "metadata": {},
   "source": [
    "import mysql.connector as my\n",
    "\n",
    "mydb = my.connect(host=\"localhost\",user=\"root\",password=None)\n",
    "csr = mydb.cursor()"
   ]
  },
  {
   "cell_type": "markdown",
   "id": "600a30a0-ede5-4387-8358-46ef19aa9ab2",
   "metadata": {},
   "source": [
    "Q7. Give the order of execution of SQL clauses in an SQL query.<br>\n",
    "Ans. Order of execution of SQL clauses in an SQL query: From -->> Join-->> where--->> Having--->>Select--->> Distinict--->> order by--->> limit"
   ]
  },
  {
   "cell_type": "code",
   "execution_count": null,
   "id": "20e1b1cf-6a74-4536-8da5-5091295ae099",
   "metadata": {},
   "outputs": [],
   "source": [
    "w"
   ]
  }
 ],
 "metadata": {
  "kernelspec": {
   "display_name": "Python 3 (ipykernel)",
   "language": "python",
   "name": "python3"
  },
  "language_info": {
   "codemirror_mode": {
    "name": "ipython",
    "version": 3
   },
   "file_extension": ".py",
   "mimetype": "text/x-python",
   "name": "python",
   "nbconvert_exporter": "python",
   "pygments_lexer": "ipython3",
   "version": "3.10.8"
  }
 },
 "nbformat": 4,
 "nbformat_minor": 5
}
