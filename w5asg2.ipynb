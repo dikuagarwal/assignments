{
 "cells": [
  {
   "cell_type": "markdown",
   "id": "fb53fde6-dd06-4d63-bb3e-40f4d2ae2dce",
   "metadata": {},
   "source": [
    "Q1. Explain why we have to use the Exception class while creating a Custom Exception.<br>\n",
    "Ans. We have to use exception class while creating custom exception class for provide the flexibility to add attributes and method that are not part of standard exception class."
   ]
  },
  {
   "cell_type": "markdown",
   "id": "80c2b45a-c403-4227-be5f-6a96a4f94dc8",
   "metadata": {},
   "source": [
    "Q2. Write a python program to print Python Exception Hierarchy."
   ]
  },
  {
   "cell_type": "code",
   "execution_count": 1,
   "id": "9ac89a44-eda2-4f80-9692-e9883c1fe2cf",
   "metadata": {},
   "outputs": [
    {
     "name": "stdout",
     "output_type": "stream",
     "text": [
      "error\n"
     ]
    }
   ],
   "source": [
    "try:\n",
    "    a = 1/0\n",
    "except ValueError:\n",
    "    print(\"Value Erroor\")\n",
    "except Exception:\n",
    "    print(\"error\")"
   ]
  },
  {
   "cell_type": "markdown",
   "id": "2fbda474-a632-47a3-9e43-5d57e02d7670",
   "metadata": {},
   "source": [
    "Q3. What errors are defined in the ArithmeticError class? Explain any two with an example.<br>\n",
    "Ans. The arithmetic error occurs when an error is encountered during numeric calculations in Python. This includes Zerodivision Error and Floating point error. In addition, zero division error is raised when you divide a numeric value by zero. When we run this code, we will get a ZeroDivision error."
   ]
  },
  {
   "cell_type": "markdown",
   "id": "3b90adb5-7529-4c29-88eb-29814a5247fd",
   "metadata": {},
   "source": [
    "Q4. Why LookupError class is used? Explain with an example KeyError and IndexError.<br>\n",
    "Ans. The LookupError exception in Python forms the base class for all exceptions that are raised when an index or a key is not found for a sequence or dictionary respectively."
   ]
  },
  {
   "cell_type": "code",
   "execution_count": 2,
   "id": "2354265d-247e-45b2-9843-6dc8659e53fd",
   "metadata": {},
   "outputs": [
    {
     "name": "stdout",
     "output_type": "stream",
     "text": [
      "string index out of range, <class 'IndexError'>\n"
     ]
    }
   ],
   "source": [
    "# index error\n",
    "x = \"Pylenin\"\n",
    "try:\n",
    "    print(x[10])\n",
    "except LookupError as e:\n",
    "    print(f\"{e}, {e.__class__}\")"
   ]
  },
  {
   "cell_type": "code",
   "execution_count": 6,
   "id": "ef6f6737-04d1-4ecc-addc-5634e26bc976",
   "metadata": {},
   "outputs": [
    {
     "name": "stdout",
     "output_type": "stream",
     "text": [
      "'harsh', <class 'KeyError'>\n"
     ]
    }
   ],
   "source": [
    "# Keyerror\n",
    "pylenin_info = {'name': 'Lenin Mishra',\n",
    "                'age': 28,\n",
    "                'language': 'Python'}\n",
    "try:\n",
    "    print(f' {pylenin_info[\"harsh\"]}')\n",
    "except LookupError as e:\n",
    "    print(f'{e}, {e.__class__}')"
   ]
  },
  {
   "cell_type": "markdown",
   "id": "fd5a8a8c-03c1-46f0-92e0-1a8da7ba6269",
   "metadata": {},
   "source": [
    "Q5. Explain ImportError. What is ModuleNotFoundError?<br>\n",
    "Ans. Python's ImportError ( ModuleNotFoundError ) indicates that you tried to import a module that Python doesn't find.\n",
    "The 'module not found' error is a syntax error that appears when the static import statement cannot find the file at the declared path."
   ]
  },
  {
   "cell_type": "markdown",
   "id": "da356482-2904-406d-8d37-5f55e1dce8ec",
   "metadata": {},
   "source": [
    "Q6. List down some best practices for exception handling in python.<br>\n",
    "- 1. Use Exceptions for Exceptional Cases\n",
    "- 2. Catch Specific Exceptions\n",
    "- 3. Avoid Raising Generic Exceptions\n",
    "- 4. Raise Custom Exceptions\n",
    "- 5. Provide Contextual Information When Raising an Exception"
   ]
  },
  {
   "cell_type": "raw",
   "id": "b24c5073-3482-434b-9ecc-0b581cf1888a",
   "metadata": {},
   "source": []
  }
 ],
 "metadata": {
  "kernelspec": {
   "display_name": "Python 3 (ipykernel)",
   "language": "python",
   "name": "python3"
  },
  "language_info": {
   "codemirror_mode": {
    "name": "ipython",
    "version": 3
   },
   "file_extension": ".py",
   "mimetype": "text/x-python",
   "name": "python",
   "nbconvert_exporter": "python",
   "pygments_lexer": "ipython3",
   "version": "3.10.8"
  }
 },
 "nbformat": 4,
 "nbformat_minor": 5
}
