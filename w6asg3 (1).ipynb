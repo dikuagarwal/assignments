{
 "cells": [
  {
   "cell_type": "markdown",
   "id": "b8f26c6a-4d8e-4c06-8716-3d886d16482d",
   "metadata": {},
   "source": [
    "<hr>Q1. What is an API? Give an example, where an API is used in real life.<br>\n",
    "Ans. Applications Programming Interface(APIs) are mechanisms that enable two software components to communicate with each other using a set of definitions and protocols without having to know what exactly software does.For example, the weather bureau's software system contains daily weather data. The weather app on your phone “talks” to this system via APIs and shows you daily weather updates on your phone.<hr>"
   ]
  },
  {
   "cell_type": "markdown",
   "id": "5cedc5e3-1b43-4f16-bc9b-3e51c9a32e49",
   "metadata": {},
   "source": [
    "Q2. Give advantages and disadvantages of using API.<br>\n",
    "Ans. The major benefit of using an API is accessing and consuming data and services from thousands of independent sources. This means organizations of all sizes can access these functionalities without developing their own specialized applications.<br>\n",
    "These include the potential for security risks, the need for specialized knowledge, the potential for compatibility issues, the costs associated with using an API, the need for ongoing maintenance, the time investment required, and the potential for limitations.<hr>"
   ]
  },
  {
   "cell_type": "markdown",
   "id": "8567520a-21cb-4d5a-9501-76de1811a46e",
   "metadata": {},
   "source": [
    "Q3. What is a Web API? Differentiate between API and Web API.<br>\n",
    "Ans. A Web API, also known as a web service API, is a set of rules and protocols that allows different software applications to communicate with each other over the internet. \"Web API\" specifically refers to an API that is designed to be used over the web using standard web protocols such as HTTP. Web APIs typically follow the principles of Representational State Transfer (REST) architectural style, where resources are identified by URLs, and HTTP methods (GET, POST, PUT, DELETE, etc.) are used to perform operations on these resources.\n",
    "- API: A general term for any interface that allows software components to interact.\n",
    "- Web API: A type of API specifically designed for web-based communication, using standard web protocols like HTTP and following REST principles.\n",
    "\n",
    "<hr>"
   ]
  },
  {
   "cell_type": "markdown",
   "id": "bef9f9af-3c8d-4665-b429-285609e9788c",
   "metadata": {},
   "source": [
    "Q4. Explain REST and SOAP Architecture. Mention shortcomings of SOAP.<br>\n",
    "Ans. REST is an architectural style that emphasizes a stateless, client-server communication model. It is based on a set of principles and constraints that promote scalability, simplicity, and interoperability. In REST, resources are identified by URLs, and the communication between client and server is typically done using HTTP methods (GET, POST, PUT, DELETE) to perform operations on these resources. RESTful APIs use standard web protocols and formats like JSON or XML for data representation.<br>\n",
    "SOAP is a protocol that defines a set of rules for structuring messages and exchanging information between web services.\n",
    "It uses XML as the message format and typically relies on other protocols such as HTTP, SMTP, or others for transmission.<br>\n",
    "\n",
    "Shortcomings of SOAP:\n",
    "- Complexity: SOAP messages are often larger and more complex than their REST counterparts due to the XML-based message format and additional layers of protocol overhead.\n",
    "- Performance: The extensive use of XML and the added processing overhead can result in slower performance compared to RESTful services.\n",
    "- Tight Coupling: SOAP services tend to have a higher level of coupling between the client and server, making it more difficult to evolve and modify the service without affecting the clients.\n",
    "- Lack of Caching: SOAP is generally considered stateless, which means caching of requests/responses is more challenging to implement efficiently.\n",
    "- Limited Browser Support: SOAP-based services are not as widely supported by browsers compared to RESTful services, which can limit their usage in certain scenarios.\n",
    "\n",
    "<hr>"
   ]
  },
  {
   "cell_type": "markdown",
   "id": "a7762009-a19f-4e8c-b5e5-084e5ade11a0",
   "metadata": {},
   "source": [
    "Q5. Differentiate between REST and SOAP.<br>\n",
    "Ans.Many legacy systems may still adhere to SOAP, while REST came later and is often viewed as a faster alternative in web-based scenarios. REST is a set of guidelines that offers flexible implementation, whereas SOAP is a protocol with specific requirements like XML messaging.\n",
    "\n",
    "REST APIs are lightweight, making them ideal for newer contexts like the Internet of Things (IoT), mobile application development, and serverless computing. SOAP web services offer built-in security and transaction compliance that align with many enterprise needs, but that also makes them heavier. Additionally, many public APIs, like the Google Maps API, follow the REST guidelines.<hr>\n"
   ]
  },
  {
   "cell_type": "code",
   "execution_count": null,
   "id": "f11caab9-9601-4fbf-9f23-a964e2a44295",
   "metadata": {},
   "outputs": [],
   "source": []
  }
 ],
 "metadata": {
  "kernelspec": {
   "display_name": "Python 3 (ipykernel)",
   "language": "python",
   "name": "python3"
  },
  "language_info": {
   "codemirror_mode": {
    "name": "ipython",
    "version": 3
   },
   "file_extension": ".py",
   "mimetype": "text/x-python",
   "name": "python",
   "nbconvert_exporter": "python",
   "pygments_lexer": "ipython3",
   "version": "3.10.8"
  }
 },
 "nbformat": 4,
 "nbformat_minor": 5
}
