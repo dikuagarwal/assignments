{
 "cells": [
  {
   "cell_type": "markdown",
   "id": "210f495e-167d-402b-8c54-2305f738a5ec",
   "metadata": {},
   "source": [
    "Q1. A). AI: Artifical inteligance or AI is a basically smart application that can perform it's own task withot human interaction. It's envolves tech like ML, DL, NLP etcc. example of AI is google assistanet, smart automatic car etc. AI is the field of computer science focused on creating machines and software that can simulate human-like intelligence and decision-making.<br>\n",
    "\n",
    "B). ML:  ML is a branch of artificial intelligence that focuses on developing algorithms and models that enable computers to learn from data and improve their performance on specific tasks over time. It's proviees statstool to analyze, visualize and developing models and performing forcasting. Ex: Amazon and netflix recommadation system.<br>\n",
    "\n",
    "C). DL: Deep Learning is a specialized branch of machine learning that employs neural networks with multiple layers to learn and represent complex patterns and features from data. This is basicaly use to mimic the human brain. Chatbots are examples of Dl.<hr>"
   ]
  },
  {
   "cell_type": "markdown",
   "id": "e0a708b8-47ff-4a5f-a331-3126318b5d34",
   "metadata": {},
   "source": [
    "Q2- What is supervised learning? List some examples of supervised learning.<br>\n",
    "Ans. Supervised learning is one type of ML where the algorithm learns from a labeled dataset. In supervised learning, the training data includes input features (also called attributes or variables) along with their corresponding output labels or target values. The goal of supervised learning is to learn a mapping from input features to output labels so that the algorithm can make accurate predictions on new, unseen data. Student pass fail prediction based on their study hours, flat price prediction based on no of rooms and size of flat.<hr>"
   ]
  },
  {
   "cell_type": "markdown",
   "id": "e4950649-798c-4258-ab36-2bfafc54e141",
   "metadata": {},
   "source": [
    "Q3- What is unsupervised learning? List some samples of unsupervisKd learning.<br>\n",
    "Ans. this is also one type of ML where the algorithm learns from an unlabeled dataset. In unsupervised learning, the training data consists only of input features, and there are no corresponding output labels or target values. The goal of unsupervised learning is to find patterns, structures, or relationships within the data without having predefined categories or labels. example of unsupevised ML is making cluster or group of similar type of data like Identifying groups of customers with similar behaviors for targeted marketing.<hr>"
   ]
  },
  {
   "cell_type": "markdown",
   "id": "5e5dcb59-f31d-4c4c-a6ed-a1fc33bc944d",
   "metadata": {},
   "source": [
    "Q4- What is the difference between AI, ML, DL, and DS?<br>\n",
    "Ans. AI is basically superset of ML,DL. \n",
    "- AI is the overarching field focused on creating machines that exhibit human-like intelligence.\n",
    "- ML is a subset of AI that involves algorithms learning from data to make predictions or decisions.\n",
    "- DL is a specialized subset of ML that uses deep neural networks to model complex patterns.\n",
    "- DS is a multidisciplinary field that uses various techniques to analyze data and extract valuable insights.\n",
    "\n",
    "<hr>"
   ]
  },
  {
   "cell_type": "markdown",
   "id": "5bd3da1e-03d0-4678-ad38-d96ffe36ced9",
   "metadata": {},
   "source": [
    "Q5- What are the main differences between supervised, unsupervised, and semi-supervised learning?<br>\n",
    "- Supervised learning requires labeled data for training and aims to make accurate predictions or classifications.\n",
    "- Unsupervised learning doesn't use labels and focuses on finding patterns or structures or relationship within data.\n",
    "- Semi-supervised learning combines labeled and unlabeled data to improve learning efficiency and generalization.\n",
    "\n",
    "<hr>"
   ]
  },
  {
   "cell_type": "markdown",
   "id": "890a483b-76cf-4cac-ad73-57db419283ed",
   "metadata": {},
   "source": [
    "Q6- What is train, test and validation split? Explain the importance of each term.<br>\n",
    "Ans. We split data set in 3 part, one is traing data set, second is validation dataset and last one is test dataset. \n",
    "- The training dataset is used to train the machine learning model, The model learns the underlying patterns, relationships, and representations within the data through exposure to the training dataset.<br>\n",
    "- The validation dataset is used to fine-tune the model during training and to select hyperparameters. The validation data provides an independent dataset for monitoring the model's performance and making adjustments to prevent overfitting. It helps select the best-performing model version and hyperparameters.<br>\n",
    "- The test dataset is used to evaluate the final model's performance after training and validation. This evaluation provides an estimate of how well the model will perform in practice.\n",
    "\n",
    "<hr>"
   ]
  },
  {
   "cell_type": "markdown",
   "id": "f5752dcc-254f-480e-ab07-6426ac35e776",
   "metadata": {},
   "source": [
    "Q7- How can unsupervised learning be used in anomaly detection?<br>\n",
    "Ans. Anomaly detection, also known as outlier detection, is a process of identifying data points or instances that significantly deviate from the expected or normal behavior within a dataset. Anomaly detection is a crucial task in various fields, as it helps identify unusual or unexpected events that might indicate errors, fraud, faults, or novel behaviors.<br>\n",
    "Unsupervised learning can be highly effective in anomaly detection tasks due to its ability to uncover patterns and anomalies in data without relying on labeled examples. Clustering algorithms group similar data points together. Anomalies, being dissimilar from the majority, might not fit well into any cluster. Therefore, data points that don't belong to any cluster or are in sparsely populated clusters can be considered anomalies.<hr>"
   ]
  },
  {
   "cell_type": "markdown",
   "id": "b46409f9-67e7-4962-b354-bb083a68d2d7",
   "metadata": {},
   "source": [
    "Q8- List down some commonly used supervised learning algorithms and unsupervised learning algorithms.<br>\n",
    "Ans. Supervised Learning Algorithms:<br>\n",
    "- Linear Regression\n",
    "- Logistic Regression\n",
    "- Decision Trees\n",
    "- Random Forest\n",
    "- Support Vector Machines (SVM)\n",
    "- K-Nearest Neighbors (KNN)\n",
    "\n",
    "<br>\n",
    "Unsupervised Learning Algorithms:<br>\n",
    "\n",
    "- K-Means Clustering\n",
    "- Hierarchical Clustering\n",
    "- Gaussian Mixture Models (GMM)\n",
    "- Principal Component Analysis (PCA)\n",
    "- Independent Component Analysis (ICA)"
   ]
  },
  {
   "cell_type": "code",
   "execution_count": null,
   "id": "fa2a4141-8065-4d25-bced-1b2d6e31a122",
   "metadata": {},
   "outputs": [],
   "source": []
  }
 ],
 "metadata": {
  "kernelspec": {
   "display_name": "Python 3 (ipykernel)",
   "language": "python",
   "name": "python3"
  },
  "language_info": {
   "codemirror_mode": {
    "name": "ipython",
    "version": 3
   },
   "file_extension": ".py",
   "mimetype": "text/x-python",
   "name": "python",
   "nbconvert_exporter": "python",
   "pygments_lexer": "ipython3",
   "version": "3.10.8"
  }
 },
 "nbformat": 4,
 "nbformat_minor": 5
}
