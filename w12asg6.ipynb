{
 "cells": [
  {
   "cell_type": "markdown",
   "id": "2b641da0-46b1-469d-98c0-73a668cb1551",
   "metadata": {},
   "source": [
    "Q1. What is the difference between Ordinal Encoding and Label Encoding? Provide an example of when you\n",
    "might choose one over the other.<br>\n",
    "Ans. Both are data encoding techniques. Label encoding involves assigning a unique numerical value to each category or label in a categorical variable. It is suitable for nominal categorical variables where there is no inherent order or hierarchy among the categories.\n",
    "However, label encoding can be problematic if the algorithm interprets the numerical values as having an ordinal relationship, leading to incorrect assumptions about the data. Ordinal encoding is used for ordinal categorical variables where there is a clear order or hierarchy among the categories. In this technique, each category is assigned a unique numerical value based on its rank or order. <br>\n",
    "Choose label encoding when dealing with nominal categorical variables where the categories do not have any inherent order or ranking. Use ordinal encoding when dealing with ordinal categorical variables, where the categories have a clear order or hierarchy. <br>\n",
    "It's important to note that some machine learning algorithms can interpret ordinal encoding as having a meaningful order, which might not be accurate for nominal variables. To avoid this issue, it's generally recommended to use one-hot encoding (creating binary columns for each category) for nominal variables and ordinal encoding for ordinal variables.<hr>"
   ]
  },
  {
   "cell_type": "markdown",
   "id": "c851a173-376e-4697-96b2-31873d5b0225",
   "metadata": {},
   "source": [
    "Q2. Explain how Target Guided Ordinal Encoding works and provide an example of when you might use it in\n",
    "a machine learning project.<br>\n",
    "Ans. Target Guided Ordinal Encoding is a technique used to encode categorical variables based on the relationship between the categorical variable and the target variable in a machine learning project. For each unique category of the categorical variable, calculate the mean or median value of the target variable. This step helps you understand the relationship between the categories and the target. Target Guided Ordinal Encoding relies heavily on the relationship between the categorical variable and the target variable.<hr>\n"
   ]
  },
  {
   "cell_type": "markdown",
   "id": "c7f0cf82-3b24-45ac-8924-4543ccc5ca67",
   "metadata": {},
   "source": [
    "Q3. Define covariance and explain why it is important in statistical analysis. How is covariance calculated?<br>\n",
    "Ans. Covariance is a statistical measure that quantifies the degree to which two random variables change together. \"It indicates the direction of the linear relationship between two random variables.\" In other words, covariance measures how much the values of one variable change as the values of another variable change. we can easily calculate this in python with function \"df.cov( )\"<hr>"
   ]
  },
  {
   "cell_type": "markdown",
   "id": "6b3f8e3e-2f38-413b-96dc-1886c7887c75",
   "metadata": {},
   "source": [
    "Q4. For a dataset with the following categorical variables: Color (red, green, blue), Size (small, medium,\n",
    "large), and Material (wood, metal, plastic), perform label encoding using Python's scikit-learn library.\n",
    "Show your code and explain the output.<br>\n",
    "Ans. "
   ]
  },
  {
   "cell_type": "code",
   "execution_count": 5,
   "id": "bf0b67c7-d1df-4c97-84f7-58c901b9c920",
   "metadata": {},
   "outputs": [],
   "source": [
    "import pandas as pd\n",
    "data = {\n",
    "    'Color': ['red', 'green', 'blue', 'green', 'red'],\n",
    "    'Size': ['small', 'medium', 'large', 'small', 'medium'],\n",
    "    'Material': ['wood', 'metal', 'plastic', 'wood', 'metal']\n",
    "}\n",
    "\n",
    "# Create a DataFrame\n",
    "df = pd.DataFrame(data)"
   ]
  },
  {
   "cell_type": "code",
   "execution_count": 6,
   "id": "d9accb07-3819-4eed-9b64-41295b9948f6",
   "metadata": {},
   "outputs": [
    {
     "data": {
      "text/html": [
       "<div>\n",
       "<style scoped>\n",
       "    .dataframe tbody tr th:only-of-type {\n",
       "        vertical-align: middle;\n",
       "    }\n",
       "\n",
       "    .dataframe tbody tr th {\n",
       "        vertical-align: top;\n",
       "    }\n",
       "\n",
       "    .dataframe thead th {\n",
       "        text-align: right;\n",
       "    }\n",
       "</style>\n",
       "<table border=\"1\" class=\"dataframe\">\n",
       "  <thead>\n",
       "    <tr style=\"text-align: right;\">\n",
       "      <th></th>\n",
       "      <th>Color</th>\n",
       "      <th>Size</th>\n",
       "      <th>Material</th>\n",
       "    </tr>\n",
       "  </thead>\n",
       "  <tbody>\n",
       "    <tr>\n",
       "      <th>0</th>\n",
       "      <td>2</td>\n",
       "      <td>2</td>\n",
       "      <td>2</td>\n",
       "    </tr>\n",
       "    <tr>\n",
       "      <th>1</th>\n",
       "      <td>1</td>\n",
       "      <td>1</td>\n",
       "      <td>0</td>\n",
       "    </tr>\n",
       "    <tr>\n",
       "      <th>2</th>\n",
       "      <td>0</td>\n",
       "      <td>0</td>\n",
       "      <td>1</td>\n",
       "    </tr>\n",
       "    <tr>\n",
       "      <th>3</th>\n",
       "      <td>1</td>\n",
       "      <td>2</td>\n",
       "      <td>2</td>\n",
       "    </tr>\n",
       "    <tr>\n",
       "      <th>4</th>\n",
       "      <td>2</td>\n",
       "      <td>1</td>\n",
       "      <td>0</td>\n",
       "    </tr>\n",
       "  </tbody>\n",
       "</table>\n",
       "</div>"
      ],
      "text/plain": [
       "   Color  Size  Material\n",
       "0      2     2         2\n",
       "1      1     1         0\n",
       "2      0     0         1\n",
       "3      1     2         2\n",
       "4      2     1         0"
      ]
     },
     "execution_count": 6,
     "metadata": {},
     "output_type": "execute_result"
    }
   ],
   "source": [
    "from sklearn.preprocessing import LabelEncoder\n",
    "encoder = LabelEncoder()\n",
    "for i in df.columns:\n",
    "    df[i] = encoder.fit_transform(df[i])\n",
    "    \n",
    "df"
   ]
  },
  {
   "cell_type": "markdown",
   "id": "71d71beb-8236-4e7a-b219-ef1587f1d6da",
   "metadata": {},
   "source": [
    "<hr>Q5. Calculate the covariance matrix for the following variables in a dataset: Age, Income, and Education\n",
    "level. Interpret the results."
   ]
  },
  {
   "cell_type": "code",
   "execution_count": 7,
   "id": "963b1848-247f-40e3-a4d8-e0f2cf42e718",
   "metadata": {},
   "outputs": [
    {
     "name": "stdout",
     "output_type": "stream",
     "text": [
      "                     Age       Income  Education Level\n",
      "Age                 35.3      71500.0              3.0\n",
      "Income           71500.0  145000000.0           6250.0\n",
      "Education Level      3.0       6250.0              1.0\n"
     ]
    }
   ],
   "source": [
    "import pandas as pd\n",
    "\n",
    "# Sample data\n",
    "data = {\n",
    "    'Age': [25, 30, 40, 28, 35],\n",
    "    'Income': [50000, 60000, 80000, 55000, 70000],\n",
    "    'Education Level': [2, 4, 3, 2, 4]\n",
    "}\n",
    "\n",
    "# Create a DataFrame\n",
    "df = pd.DataFrame(data)\n",
    "\n",
    "# Calculate covariance matrix\n",
    "cov_matrix = df.cov()\n",
    "\n",
    "print(cov_matrix)\n"
   ]
  },
  {
   "cell_type": "markdown",
   "id": "9a919e2f-e3cc-492b-9d2c-751f254527df",
   "metadata": {},
   "source": [
    "<hr>Q6. You are working on a machine learning project with a dataset containing several categorical\n",
    "variables, including \"Gender\" (Male/Female), \"Education Level\" (High School/Bachelor's/Master's/PhD),\n",
    "and \"Employment Status\" (Unemployed/Part-Time/Full-Time). Which encoding method would you use for\n",
    "each variable, and why?<br>\n",
    "Ans. By using one-hot encoding for nominal variables like \"Gender\" and \"Employment Status,\" we avoid creating an unintended sense of order. For ordinal variables like \"Education Level,\" ordinal encoding captures the inherent order of the categories. These encoding choices help maintain the integrity of the data and ensure that the machine learning model can interpret and use the categorical variables appropriately during training.<hr>"
   ]
  },
  {
   "cell_type": "markdown",
   "id": "2c858388-ec58-4140-82b4-85956dd80da8",
   "metadata": {},
   "source": [
    "Q7. You are analyzing a dataset with two continuous variables, \"Temperature\" and \"Humidity\", and two\n",
    "categorical variables, \"Weather Condition\" (Sunny/Cloudy/Rainy) and \"Wind Direction\" (North/South/\n",
    "East/West). Calculate the covariance between each pair of variables and interpret the results."
   ]
  },
  {
   "cell_type": "code",
   "execution_count": 8,
   "id": "ab3fc398-7d38-47e7-9544-d36b98ce076c",
   "metadata": {},
   "outputs": [
    {
     "name": "stdout",
     "output_type": "stream",
     "text": [
      "             Temperature  Humidity\n",
      "Temperature          9.3      13.7\n",
      "Humidity            13.7      35.3\n"
     ]
    }
   ],
   "source": [
    "import pandas as pd\n",
    "\n",
    "# Sample data\n",
    "data = {\n",
    "    'Temperature': [25, 30, 28, 22, 27],\n",
    "    'Humidity': [60, 65, 70, 55, 58]\n",
    "}\n",
    "\n",
    "# Create a DataFrame\n",
    "df = pd.DataFrame(data)\n",
    "\n",
    "# Calculate covariance matrix\n",
    "cov_matrix = df.cov()\n",
    "\n",
    "print(cov_matrix)\n"
   ]
  },
  {
   "cell_type": "code",
   "execution_count": null,
   "id": "67d45307-a4bb-4492-9fe8-0f131a7ddd64",
   "metadata": {},
   "outputs": [],
   "source": []
  }
 ],
 "metadata": {
  "kernelspec": {
   "display_name": "Python 3 (ipykernel)",
   "language": "python",
   "name": "python3"
  },
  "language_info": {
   "codemirror_mode": {
    "name": "ipython",
    "version": 3
   },
   "file_extension": ".py",
   "mimetype": "text/x-python",
   "name": "python",
   "nbconvert_exporter": "python",
   "pygments_lexer": "ipython3",
   "version": "3.10.8"
  }
 },
 "nbformat": 4,
 "nbformat_minor": 5
}
