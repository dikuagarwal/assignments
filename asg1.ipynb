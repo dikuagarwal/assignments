{
 "cells": [
  {
   "cell_type": "markdown",
   "id": "92a8663e-a71e-4893-b02a-627ba040927b",
   "metadata": {},
   "source": [
    "Q1. Create one variable containing following type of data:\n",
    "(i) string\n",
    "(ii) list\n",
    "(iii) float\n",
    "(iv) tuple"
   ]
  },
  {
   "cell_type": "code",
   "execution_count": 1,
   "id": "cca2931f-9c85-4cb0-959e-bbbfcb8e7757",
   "metadata": {},
   "outputs": [
    {
     "name": "stdout",
     "output_type": "stream",
     "text": [
      "harsh jalan\n",
      "[range(55, 15, -3)]\n",
      "8.48\n",
      "(4, 8, 78, 65, 45)\n"
     ]
    }
   ],
   "source": [
    "a = \"harsh jalan\"  # string variable\n",
    "b = [range(55,15,-3)]   # list variable\n",
    "c = 8.48   # float varible\n",
    "d = (4,8,78,65,45)\n",
    "\n",
    "print(a)\n",
    "print(b)\n",
    "print(c)\n",
    "print(d)"
   ]
  },
  {
   "cell_type": "markdown",
   "id": "ffca470c-c6c0-4531-a720-956dd55eac2a",
   "metadata": {},
   "source": [
    "Q2. Given are some following variables containing data:\n",
    "(i) var1 = ‘ ‘\n",
    "(ii) var2 = ‘[ DS , ML , Python]’\n",
    "(iii) var3 = [ ‘DS’ , ’ML’ , ‘Python’ ]\n",
    "(iv) var4 = 1.\n",
    "What will be the data type of the above given variable."
   ]
  },
  {
   "cell_type": "code",
   "execution_count": 2,
   "id": "314ce97a-2fd1-408f-9139-5778a2e6ef18",
   "metadata": {},
   "outputs": [
    {
     "name": "stdout",
     "output_type": "stream",
     "text": [
      "<class 'str'>\n",
      "<class 'str'>\n",
      "<class 'list'>\n",
      "<class 'int'>\n"
     ]
    }
   ],
   "source": [
    "var1 = \"\"\n",
    "var2 = \"[ DS , ML , Python]\"\n",
    "var3 = [ 'D' , 'ML' , 'Python' ]\n",
    "var4 = 1\n",
    "print(type(var1))\n",
    "print(type(var2))\n",
    "print(type(var3))\n",
    "print(type(var4))"
   ]
  },
  {
   "cell_type": "markdown",
   "id": "38231189-137f-4720-8894-46060e73408d",
   "metadata": {},
   "source": [
    "Q3. Explain the use of the following operators using an example:\n",
    "(i) /\n",
    "(ii) %\n",
    "(iii) //\n",
    "(iv) **"
   ]
  },
  {
   "cell_type": "code",
   "execution_count": 3,
   "id": "36bc3045-9f2a-401a-93aa-f4a2eaef1924",
   "metadata": {},
   "outputs": [
    {
     "name": "stdout",
     "output_type": "stream",
     "text": [
      "7.25\n",
      "2\n",
      "7\n",
      "128063081718016\n"
     ]
    }
   ],
   "source": [
    "# 1. use of \"/\" operator = this is one kind of arthematic operator, this is divide operator\n",
    "#2. \"%\" = modulo operator, it's produce remainder of an integer divison\n",
    "#3. \"//\" = this is floor division variable\n",
    "#4. \"**\" = this is an expoenent variable\n",
    "a = 58\n",
    "b = 8\n",
    "print(a/b)\n",
    "print(a%b)\n",
    "print(a//b)\n",
    "print(a**b)"
   ]
  },
  {
   "cell_type": "markdown",
   "id": "85628eb9-5087-4c85-bcb0-c3529e8d8e98",
   "metadata": {},
   "source": [
    "Q4. Create a list of length 10 of your choice containing multiple types of data. Using for loop print the\n",
    "element and its data type."
   ]
  },
  {
   "cell_type": "code",
   "execution_count": 4,
   "id": "466b7907-5553-4dbb-a6fb-f9d2e4ef5efc",
   "metadata": {},
   "outputs": [
    {
     "name": "stdout",
     "output_type": "stream",
     "text": [
      "<class 'int'>\n",
      "<class 'float'>\n",
      "<class 'str'>\n",
      "<class 'bool'>\n",
      "<class 'list'>\n",
      "<class 'tuple'>\n",
      "<class 'dict'>\n",
      "<class 'set'>\n",
      "<class 'str'>\n",
      "<class 'int'>\n"
     ]
    }
   ],
   "source": [
    "l = [4,52.2,\"harsh\",True,[4,5,8],(77,89,56),{4:4000,5:5000,6:6000},{1,4,7,8},\"\",587]\n",
    "\n",
    "for item in l:\n",
    "    print(type(item))\n",
    "    \n"
   ]
  },
  {
   "cell_type": "markdown",
   "id": "09798144-3255-4665-907a-d25aea686b99",
   "metadata": {},
   "source": [
    "Q5. Using a while loop, verify if the number A is purely divisible by number B and if so then how many\n",
    "times it can be divisible."
   ]
  },
  {
   "cell_type": "code",
   "execution_count": 5,
   "id": "c1ea1091-a5e9-4f5f-8071-e4955767a96e",
   "metadata": {},
   "outputs": [
    {
     "name": "stdin",
     "output_type": "stream",
     "text": [
      "first no 488\n",
      "second number 2\n"
     ]
    },
    {
     "name": "stdout",
     "output_type": "stream",
     "text": [
      "a is 3 times purely divisble by b\n"
     ]
    }
   ],
   "source": [
    "a = int(input(\"first no\"))\n",
    "b = int(input(\"second number\"))\n",
    "i = 0\n",
    "\n",
    "while a%b ==0:\n",
    "    a = a/b\n",
    "    i = i+1\n",
    "else:\n",
    "    if i==0:\n",
    "        print(\"a is not purely divisble by b\")\n",
    "    else:\n",
    "        print(f\"a is {i} times purely divisble by b\")"
   ]
  },
  {
   "cell_type": "markdown",
   "id": "c2e3cb30-9b09-4073-8f08-3f3eb3a1e1af",
   "metadata": {},
   "source": [
    "Q6. Create a list containing 25 int type data. Using for loop and if-else condition print if the element is\n",
    "divisible by 3 or not."
   ]
  },
  {
   "cell_type": "code",
   "execution_count": 6,
   "id": "39364a52-11ce-4d55-9a68-3fce8e0ebaef",
   "metadata": {},
   "outputs": [
    {
     "name": "stdout",
     "output_type": "stream",
     "text": [
      "1 is not divisible by 3\n",
      "2 is not divisible by 3\n",
      "3 is divisible by 3\n",
      "4 is not divisible by 3\n",
      "5 is not divisible by 3\n",
      "6 is divisible by 3\n",
      "7 is not divisible by 3\n",
      "8 is not divisible by 3\n",
      "9 is divisible by 3\n",
      "10 is not divisible by 3\n",
      "11 is not divisible by 3\n",
      "12 is divisible by 3\n",
      "13 is not divisible by 3\n",
      "14 is not divisible by 3\n",
      "15 is divisible by 3\n",
      "16 is not divisible by 3\n",
      "17 is not divisible by 3\n",
      "18 is divisible by 3\n",
      "19 is not divisible by 3\n",
      "20 is not divisible by 3\n",
      "21 is divisible by 3\n",
      "22 is not divisible by 3\n",
      "23 is not divisible by 3\n",
      "24 is divisible by 3\n",
      "25 is not divisible by 3\n"
     ]
    }
   ],
   "source": [
    "l = [1,2,3,4,5,6,7,8,9,10,11,12,13,14,15,16,17,18,19,20,21,22,23,24,25]\n",
    "for i in l:\n",
    "    if (i)%3==0:\n",
    "        print(f\"{i} is divisible by 3\")\n",
    "    else:\n",
    "        print(f\"{i} is not divisible by 3\")"
   ]
  },
  {
   "cell_type": "markdown",
   "id": "70babb25-f3a0-42a1-97ed-7cef234b4d18",
   "metadata": {},
   "source": [
    "Q7. What do you understand about mutable and immutable data types? Give examples for both showing\n",
    "this property."
   ]
  },
  {
   "cell_type": "markdown",
   "id": "92bd1cc4-9d7c-42b1-a2c5-3721d5fab23e",
   "metadata": {},
   "source": [
    "A data type that allows you to change its values without changing its identity is a mutable object. The changes that you can perform on a mutable object's value are known as mutations. In contrast, a data type that doesn't allow changes in its value is an immutable data type.\n",
    "example of mutable data type: list,dict,set etc and immutable data type are int,str,tupple,float,bool etc."
   ]
  },
  {
   "cell_type": "code",
   "execution_count": null,
   "id": "add198d3-8f36-42d2-b014-9cfd232c384d",
   "metadata": {},
   "outputs": [],
   "source": []
  },
  {
   "cell_type": "code",
   "execution_count": null,
   "id": "9b24eb3d-f58a-4410-bfd9-2adb78ecd8f1",
   "metadata": {},
   "outputs": [],
   "source": []
  }
 ],
 "metadata": {
  "kernelspec": {
   "display_name": "Python 3 (ipykernel)",
   "language": "python",
   "name": "python3"
  },
  "language_info": {
   "codemirror_mode": {
    "name": "ipython",
    "version": 3
   },
   "file_extension": ".py",
   "mimetype": "text/x-python",
   "name": "python",
   "nbconvert_exporter": "python",
   "pygments_lexer": "ipython3",
   "version": "3.10.8"
  }
 },
 "nbformat": 4,
 "nbformat_minor": 5
}
