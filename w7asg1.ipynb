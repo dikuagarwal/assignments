{
 "cells": [
  {
   "cell_type": "code",
   "execution_count": 1,
   "id": "2438e134-77cf-4679-84c9-bc50f3948feb",
   "metadata": {},
   "outputs": [],
   "source": [
    "import pandas as pd"
   ]
  },
  {
   "cell_type": "markdown",
   "id": "f6598062-edbd-4e84-be54-1c0d4f65f79a",
   "metadata": {},
   "source": [
    "Q1. Create a Pandas Series that contains the following data: 4, 8, 15, 16, 23, and 42. Then, print the series."
   ]
  },
  {
   "cell_type": "code",
   "execution_count": 2,
   "id": "225ceeec-7521-4224-8cc3-a7ebd1f344dd",
   "metadata": {},
   "outputs": [],
   "source": [
    "s = pd.Series([4,8,15,16,23,42],index=['a','b','c','d','e','f'])"
   ]
  },
  {
   "cell_type": "code",
   "execution_count": 3,
   "id": "11577167-37d4-4d14-9597-4f939cc4f972",
   "metadata": {},
   "outputs": [
    {
     "data": {
      "text/plain": [
       "a     4\n",
       "b     8\n",
       "c    15\n",
       "d    16\n",
       "e    23\n",
       "f    42\n",
       "dtype: int64"
      ]
     },
     "execution_count": 3,
     "metadata": {},
     "output_type": "execute_result"
    }
   ],
   "source": [
    "s"
   ]
  },
  {
   "cell_type": "markdown",
   "id": "ea2a9ac9-c8bb-4c37-a263-2af2783d24cc",
   "metadata": {},
   "source": [
    "<hr>Q2. Create a variable of list type containing 10 elements in it, and apply pandas.Series function on the\n",
    "variable print it."
   ]
  },
  {
   "cell_type": "code",
   "execution_count": 4,
   "id": "03ca7b99-11e3-4fa3-b506-09468a185716",
   "metadata": {},
   "outputs": [],
   "source": [
    "l = [\"harsh\",22,\"jalan\",\"Btech\",\"ratangarh\",\"churu\",\"rajasthan\",8107567588,\"electrical\",8.48,\"IITRAM\"]\n",
    "s = pd.Series(l)"
   ]
  },
  {
   "cell_type": "code",
   "execution_count": 5,
   "id": "08176567-b47e-4afa-b3ce-4d8f2eb82d55",
   "metadata": {},
   "outputs": [
    {
     "data": {
      "text/plain": [
       "0          harsh\n",
       "1             22\n",
       "2          jalan\n",
       "3          Btech\n",
       "4      ratangarh\n",
       "5          churu\n",
       "6      rajasthan\n",
       "7     8107567588\n",
       "8     electrical\n",
       "9           8.48\n",
       "10        IITRAM\n",
       "dtype: object"
      ]
     },
     "execution_count": 5,
     "metadata": {},
     "output_type": "execute_result"
    }
   ],
   "source": [
    "s"
   ]
  },
  {
   "cell_type": "markdown",
   "id": "0946a5c7-f236-4a95-ae5f-b521ee8048e7",
   "metadata": {},
   "source": [
    "<hr>Q3. Create a Pandas DataFrame that contains the following data:"
   ]
  },
  {
   "cell_type": "code",
   "execution_count": 6,
   "id": "a4b57e12-82c7-438d-a0fb-04b4db36d17e",
   "metadata": {},
   "outputs": [
    {
     "data": {
      "text/html": [
       "<div>\n",
       "<style scoped>\n",
       "    .dataframe tbody tr th:only-of-type {\n",
       "        vertical-align: middle;\n",
       "    }\n",
       "\n",
       "    .dataframe tbody tr th {\n",
       "        vertical-align: top;\n",
       "    }\n",
       "\n",
       "    .dataframe thead th {\n",
       "        text-align: right;\n",
       "    }\n",
       "</style>\n",
       "<table border=\"1\" class=\"dataframe\">\n",
       "  <thead>\n",
       "    <tr style=\"text-align: right;\">\n",
       "      <th></th>\n",
       "      <th>Name</th>\n",
       "      <th>Age</th>\n",
       "      <th>Gender</th>\n",
       "    </tr>\n",
       "  </thead>\n",
       "  <tbody>\n",
       "    <tr>\n",
       "      <th>0</th>\n",
       "      <td>Alice</td>\n",
       "      <td>25</td>\n",
       "      <td>Female</td>\n",
       "    </tr>\n",
       "    <tr>\n",
       "      <th>1</th>\n",
       "      <td>Bob</td>\n",
       "      <td>30</td>\n",
       "      <td>Male</td>\n",
       "    </tr>\n",
       "    <tr>\n",
       "      <th>2</th>\n",
       "      <td>Claire</td>\n",
       "      <td>27</td>\n",
       "      <td>Femae</td>\n",
       "    </tr>\n",
       "  </tbody>\n",
       "</table>\n",
       "</div>"
      ],
      "text/plain": [
       "     Name  Age  Gender\n",
       "0   Alice   25  Female\n",
       "1     Bob   30    Male\n",
       "2  Claire   27   Femae"
      ]
     },
     "execution_count": 6,
     "metadata": {},
     "output_type": "execute_result"
    }
   ],
   "source": [
    "df = pd.DataFrame({\"Name\":['Alice','Bob','Claire'],\"Age\":[25,30,27],\"Gender\":['Female','Male','Femae']})\n",
    "df"
   ]
  },
  {
   "cell_type": "markdown",
   "id": "68b22683-ce26-4024-9977-8b389212e975",
   "metadata": {},
   "source": [
    "<hr>Q4. What is ‘DataFrame’ in pandas and how is it different from pandas.series? Explain with an example.<br>\n",
    "Ans. DataFrame is a 2-dimensional labeled data structure with columns of potentially different types. a Pandas Series is a 1D array of data, but a single-column DataFrame is a 2D table with one column.<hr>"
   ]
  },
  {
   "cell_type": "markdown",
   "id": "215dc040-74c6-44ca-b3d2-d5b60bdc1795",
   "metadata": {},
   "source": [
    "Q5. What are some common functions you can use to manipulate data in a Pandas DataFrame? Can\n",
    "you give an example of when you might use one of these functions?<br>\n",
    "Ans. Dropna(),fillna(),df.loc(),df.iloc(), df.info(), df.describe() etc are some kind of common function.<br>\n",
    "dropna and fillna function is used to handle missing data in dataframes, df.loc and df.iloc() is used for display specific row and column data, df.describe function is used for getting information about dataframes.<hr>"
   ]
  },
  {
   "cell_type": "markdown",
   "id": "e4284447-c9c2-41e2-9abb-85a11cb9b5c9",
   "metadata": {},
   "source": [
    "Q6. Which of the following is mutable in nature Series, DataFrame, Panel?<br>\n",
    "Ans. Pandas DataFrame, Panel is mutable but series is immutable.\n",
    "<hr>"
   ]
  },
  {
   "cell_type": "markdown",
   "id": "9c698f4a-2b32-4705-a49a-9298ef39360e",
   "metadata": {},
   "source": [
    "Q7. Create a DataFrame using multiple Series. Explain with an example."
   ]
  },
  {
   "cell_type": "code",
   "execution_count": 7,
   "id": "568d763f-eb1e-48ea-a3bd-afb5bafce40f",
   "metadata": {},
   "outputs": [
    {
     "data": {
      "text/html": [
       "<div>\n",
       "<style scoped>\n",
       "    .dataframe tbody tr th:only-of-type {\n",
       "        vertical-align: middle;\n",
       "    }\n",
       "\n",
       "    .dataframe tbody tr th {\n",
       "        vertical-align: top;\n",
       "    }\n",
       "\n",
       "    .dataframe thead th {\n",
       "        text-align: right;\n",
       "    }\n",
       "</style>\n",
       "<table border=\"1\" class=\"dataframe\">\n",
       "  <thead>\n",
       "    <tr style=\"text-align: right;\">\n",
       "      <th></th>\n",
       "      <th>0</th>\n",
       "      <th>1</th>\n",
       "      <th>2</th>\n",
       "    </tr>\n",
       "  </thead>\n",
       "  <tbody>\n",
       "    <tr>\n",
       "      <th>0</th>\n",
       "      <td>Spark</td>\n",
       "      <td>22000</td>\n",
       "      <td>1000</td>\n",
       "    </tr>\n",
       "    <tr>\n",
       "      <th>1</th>\n",
       "      <td>PySpark</td>\n",
       "      <td>25000</td>\n",
       "      <td>2300</td>\n",
       "    </tr>\n",
       "    <tr>\n",
       "      <th>2</th>\n",
       "      <td>Hadoop</td>\n",
       "      <td>23000</td>\n",
       "      <td>1000</td>\n",
       "    </tr>\n",
       "  </tbody>\n",
       "</table>\n",
       "</div>"
      ],
      "text/plain": [
       "         0      1     2\n",
       "0    Spark  22000  1000\n",
       "1  PySpark  25000  2300\n",
       "2   Hadoop  23000  1000"
      ]
     },
     "execution_count": 7,
     "metadata": {},
     "output_type": "execute_result"
    }
   ],
   "source": [
    "courses = pd.Series([\"Spark\",\"PySpark\",\"Hadoop\"])\n",
    "fees = pd.Series([22000,25000,23000])\n",
    "discount  = pd.Series([1000,2300,1000])\n",
    "\n",
    "df=pd.concat([courses,fees,discount],axis=1)\n",
    "df"
   ]
  },
  {
   "cell_type": "code",
   "execution_count": null,
   "id": "3894d8ac-9831-4e22-956e-86ba2752644d",
   "metadata": {},
   "outputs": [],
   "source": []
  }
 ],
 "metadata": {
  "kernelspec": {
   "display_name": "Python 3 (ipykernel)",
   "language": "python",
   "name": "python3"
  },
  "language_info": {
   "codemirror_mode": {
    "name": "ipython",
    "version": 3
   },
   "file_extension": ".py",
   "mimetype": "text/x-python",
   "name": "python",
   "nbconvert_exporter": "python",
   "pygments_lexer": "ipython3",
   "version": "3.10.8"
  }
 },
 "nbformat": 4,
 "nbformat_minor": 5
}
