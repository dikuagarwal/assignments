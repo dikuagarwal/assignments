{
 "cells": [
  {
   "cell_type": "markdown",
   "id": "afb40790-f806-4e64-bdf0-faf360f4a173",
   "metadata": {},
   "source": [
    "Q1, Create a vehicle class with an init method having instance variables as name_of_vehicle, max_speed\n",
    "and average_of_vehicle."
   ]
  },
  {
   "cell_type": "code",
   "execution_count": 2,
   "id": "3f9671b3-1973-49e7-8bbd-f803a8c12e2c",
   "metadata": {},
   "outputs": [],
   "source": [
    "class vehicle:\n",
    "    def __init__(self,name_of_vehicle,max_speed,average_of_vehicle):\n",
    "        self.name_of_vehicle=name_of_vehicle\n",
    "        self.max_speed=max_speed\n",
    "        self.average_of_vehicle=average_of_vehicle"
   ]
  },
  {
   "cell_type": "markdown",
   "id": "07aa0253-24dd-4b71-ae80-d2ecc6c1f615",
   "metadata": {},
   "source": [
    "Q2. Create a child class car from the vehicle class created in Que 1, which will inherit the vehicle class.\n",
    "Create a method named seating_capacity which takes capacity as an argument and returns the name of\n",
    "the vehicle and its seating capacity."
   ]
  },
  {
   "cell_type": "code",
   "execution_count": 3,
   "id": "436546d4-6a66-470b-8bbe-27b0f8df9ff2",
   "metadata": {},
   "outputs": [],
   "source": [
    "class car(vehicle):\n",
    "    def seating_capacity(self,capacity):\n",
    "        return self.name_of_vehicle,capacity"
   ]
  },
  {
   "cell_type": "markdown",
   "id": "c7378d7a-15ab-4541-b1ba-5d4856c86e32",
   "metadata": {},
   "source": [
    "Q3. What is multiple inheritance? Write a python code to demonstrate multiple inheritance.<br>\n",
    "ans. Multiple inheritance is a feature of some object-oriented computer programming languages in which an object or class can inherit features from more than one parent object or parent class."
   ]
  },
  {
   "cell_type": "code",
   "execution_count": 4,
   "id": "7e2add3e-ee3b-4fcd-b6a8-4ee670762b2d",
   "metadata": {},
   "outputs": [],
   "source": [
    "class parent1:\n",
    "    x = 500\n",
    "class parent2:\n",
    "    y = 700\n",
    "    \n",
    "class child(parent1,parent2):\n",
    "    pass"
   ]
  },
  {
   "cell_type": "markdown",
   "id": "a1e29a5a-7a76-4ffe-8c89-d980d1ec48b2",
   "metadata": {},
   "source": [
    "Q4. What are getter and setter in python? Create a class and create a getter and a setter method in this class.<br>\n",
    "Ans. a getter is a method that allows you to access an proteted or private attribute in a given class, and a setter is a method that allows you to set or mutate the value of an attribute in a class."
   ]
  },
  {
   "cell_type": "code",
   "execution_count": 5,
   "id": "c9be1680-cf47-48d0-b041-5e9f2ccdbb4e",
   "metadata": {},
   "outputs": [],
   "source": [
    "class pwskilss:\n",
    "    def __init__(self,x,y):\n",
    "        self.__x = x\n",
    "        self.y = y\n",
    "    \n",
    "    @property\n",
    "    def access_fuc(self):\n",
    "        return self.__X\n",
    "    \n",
    "    @access_fuc.setter\n",
    "    def set(self,val):\n",
    "        self.__x = val"
   ]
  },
  {
   "cell_type": "markdown",
   "id": "8fc286e7-8c32-429d-afe6-1c43b58f7444",
   "metadata": {},
   "source": [
    "Q5.What is method overriding in python? Write a python code to demonstrate method overriding.<br>\n",
    "Ans. The overriding method allows a child class to provide a specific implementation of a method that is already provided by one of its parent classes. "
   ]
  },
  {
   "cell_type": "code",
   "execution_count": 6,
   "id": "1ab5681e-fe7f-46cc-93c8-d3e6d61d418f",
   "metadata": {},
   "outputs": [],
   "source": [
    "class Employee:\n",
    "    def details(self):\n",
    "        print(\"method is called from Employee class\")\n",
    "        \n",
    "\n",
    "class Programmer(Employee):            \n",
    "    def details(self):\n",
    "        print(\"method is called from Programmer class\")"
   ]
  },
  {
   "cell_type": "code",
   "execution_count": null,
   "id": "09fa67ad-ceab-4ce4-ae7c-c0ab3270f36b",
   "metadata": {},
   "outputs": [],
   "source": []
  }
 ],
 "metadata": {
  "kernelspec": {
   "display_name": "Python 3 (ipykernel)",
   "language": "python",
   "name": "python3"
  },
  "language_info": {
   "codemirror_mode": {
    "name": "ipython",
    "version": 3
   },
   "file_extension": ".py",
   "mimetype": "text/x-python",
   "name": "python",
   "nbconvert_exporter": "python",
   "pygments_lexer": "ipython3",
   "version": "3.10.8"
  }
 },
 "nbformat": 4,
 "nbformat_minor": 5
}
