{
 "cells": [
  {
   "cell_type": "markdown",
   "id": "23c6d3e4-ff64-416c-a0ff-623b505e9273",
   "metadata": {},
   "source": [
    "Q1. What is Exception in python? write the difference b/w exception and syntax eror.<br>\n",
    "Ans. An error is an issue in a program that prevents the program from completing its task. In comparison, an exception is a condition that interrupts the normal flow of the program. Both errors and exceptions are a type of runtime error, which means they occur during the execution of a program."
   ]
  },
  {
   "cell_type": "markdown",
   "id": "f706dc66-56b7-4099-b442-5b592f65c836",
   "metadata": {},
   "source": [
    " Q2. what happens when an exception is not handle exception? explain with an example?<br>\n",
    " Ans. When an exception occurred, if we don't handle it, the program terminates abruptly and an exception message will print to the console."
   ]
  },
  {
   "cell_type": "code",
   "execution_count": 1,
   "id": "8d03cd24-6d13-477f-a7f5-5db8c25355b7",
   "metadata": {},
   "outputs": [
    {
     "ename": "ZeroDivisionError",
     "evalue": "division by zero",
     "output_type": "error",
     "traceback": [
      "\u001b[0;31m---------------------------------------------------------------------------\u001b[0m",
      "\u001b[0;31mZeroDivisionError\u001b[0m                         Traceback (most recent call last)",
      "Cell \u001b[0;32mIn[1], line 1\u001b[0m\n\u001b[0;32m----> 1\u001b[0m \u001b[38;5;28mprint\u001b[39m(\u001b[38;5;241;43m1\u001b[39;49m\u001b[38;5;241;43m/\u001b[39;49m\u001b[38;5;241;43m0\u001b[39;49m)\n",
      "\u001b[0;31mZeroDivisionError\u001b[0m: division by zero"
     ]
    }
   ],
   "source": [
    "print(1/0)"
   ]
  },
  {
   "cell_type": "markdown",
   "id": "e7688512-b43d-452c-9b8b-a832d9ddefb0",
   "metadata": {},
   "source": [
    "Q3. Which python statments are used to catch and handle exceptions? <br>\n",
    "Ans. The try and except block in Python is used to catch and handle exceptions."
   ]
  },
  {
   "cell_type": "code",
   "execution_count": 3,
   "id": "c5ab2db5-fef6-432c-8870-1c82d9f1cc5c",
   "metadata": {},
   "outputs": [
    {
     "name": "stdout",
     "output_type": "stream",
     "text": [
      "division by zero\n"
     ]
    }
   ],
   "source": [
    "try:\n",
    "    print(1/0)\n",
    "except Exception as e:\n",
    "    print(e)"
   ]
  },
  {
   "cell_type": "markdown",
   "id": "d0d143b8-549d-4c81-8771-ad3a11cb65b6",
   "metadata": {},
   "source": [
    "Q4. (A) Try and Else: during exception handling if try block is successfully execute then only else block will be execute.<br>\n",
    "(B) Finally: Finally block will be always execute either try block will succesful execute or not.<br>\n",
    "(c) Raise: this keyword is used in during custom exception handling, whenever we want to raise any exception in some condition we will use exception keyword. "
   ]
  },
  {
   "cell_type": "code",
   "execution_count": 5,
   "id": "b5c69760-01e7-4de6-bc3d-c0ca51d5ede1",
   "metadata": {},
   "outputs": [
    {
     "name": "stdout",
     "output_type": "stream",
     "text": [
      "error can only concatenate str (not \"int\") to str\n",
      "code executed\n"
     ]
    }
   ],
   "source": [
    "try:\n",
    "    print(\"harsh\"+5)\n",
    "except Exception as e:\n",
    "    print(\"error\",e)\n",
    "else:\n",
    "    print(\"try is succesful\")\n",
    "finally:\n",
    "    print(\"code executed\")"
   ]
  },
  {
   "cell_type": "markdown",
   "id": "a7acf210-b00a-4a73-a29b-343128e70a5e",
   "metadata": {},
   "source": [
    "Q5. What are custom exception in python? why do we need custom exception? explain with an example.<br>\n",
    "Ans. Sometimes based on project requirement, we needs to create his own exceptions and raise explicitly for corresponding scenarios. Such types of exceptions are called customized Exceptions or Programmatic Exceptions. We can raise a custom exception by using the keyword 'raise'."
   ]
  },
  {
   "cell_type": "markdown",
   "id": "4d30c12c-c061-4d36-a848-72d9a0231c18",
   "metadata": {},
   "source": [
    "Q6. Craete a custom exception class."
   ]
  },
  {
   "cell_type": "code",
   "execution_count": 7,
   "id": "d1fb1a2e-8ac8-41c5-a8c7-be95f29bc555",
   "metadata": {},
   "outputs": [
    {
     "name": "stdin",
     "output_type": "stream",
     "text": [
      "your age:  -15\n"
     ]
    },
    {
     "name": "stdout",
     "output_type": "stream",
     "text": [
      "Neagtive age\n"
     ]
    }
   ],
   "source": [
    "class random(Exception):\n",
    "    def __init__(self,msg):\n",
    "        self.msg = msg\n",
    "        \n",
    "def funcc(age):\n",
    "    if age<0:\n",
    "        raise random(\"Neagtive age\")\n",
    "    elif age>90:\n",
    "        raise random(\"Death\")\n",
    "    else:\n",
    "        print(age)\n",
    "a = int(input(\"your age: \"))\n",
    "try:\n",
    "    funcc(a)\n",
    "except random as e:\n",
    "    print(e)"
   ]
  },
  {
   "cell_type": "code",
   "execution_count": null,
   "id": "f96b356f-118a-4d58-9d88-2daae5e0958b",
   "metadata": {},
   "outputs": [],
   "source": []
  }
 ],
 "metadata": {
  "kernelspec": {
   "display_name": "Python 3 (ipykernel)",
   "language": "python",
   "name": "python3"
  },
  "language_info": {
   "codemirror_mode": {
    "name": "ipython",
    "version": 3
   },
   "file_extension": ".py",
   "mimetype": "text/x-python",
   "name": "python",
   "nbconvert_exporter": "python",
   "pygments_lexer": "ipython3",
   "version": "3.10.8"
  }
 },
 "nbformat": 4,
 "nbformat_minor": 5
}
