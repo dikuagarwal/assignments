{
 "cells": [
  {
   "cell_type": "markdown",
   "id": "084aa779-f7ec-4ffe-b9e3-63ac4a71cc64",
   "metadata": {},
   "source": [
    "Q1. What is Abstraction in OOps? Explain with an example.<br>\n",
    "Ans. Abstraction is the process of hiding the internal details of an application from the outer world. Abstraction is used to describe things in simple terms. It's used to create a boundary between the application and the client programs. Making coffee with a coffee machine is a good example of  a real world abstraction. "
   ]
  },
  {
   "cell_type": "markdown",
   "id": "bc9f7f70-7290-4087-a9c0-19897463fe54",
   "metadata": {},
   "source": [
    "Q2. Differentiate between Abstraction and Encapsulation. Explain with an example.<br>\n",
    "Ans. The most significant difference between the two is that data abstraction is a method which helps to hide the unwanted data from the user, while data encapsulation is a method which helps to hide data using a single entity. Abstraction is a process of hiding the implementation details of a system from the user, and only the functional details will be available to the user end. On the other hand, Encapsulation is a method of wrapping up the data and code acting on the data into a single unit."
   ]
  },
  {
   "cell_type": "markdown",
   "id": "eb8c9f86-e9d5-4672-8bb6-5694d6f7aae2",
   "metadata": {},
   "source": [
    "Q3. What is abc module in python? Why is it used?<br>\n",
    "Ans. The 'abc' module in Python library provides the infrastructure for defining custom abstract base classes.'abc' works by marking methods of the base class as abstract. This is done by @absttractmethod decorator. "
   ]
  },
  {
   "cell_type": "markdown",
   "id": "507cbeaf-bd0a-42c4-bce8-13ba376d55d6",
   "metadata": {},
   "source": [
    "Q4. How can we achieve data abstraction?<br>\n",
    "Ans. Data Abstraction in Python can be achieved through creating abstract classes and inheriting them later. "
   ]
  },
  {
   "cell_type": "markdown",
   "id": "292d8cee-2d75-4558-9762-7fc72f899908",
   "metadata": {},
   "source": [
    "Q5. Can we create an instance of an abstract class? Explain your answer.<br>\n",
    "Ans. Abstract classes are not complete, as they may have some methods that are not defined. So we cannot create an instance or object of an abstract class in Python."
   ]
  },
  {
   "cell_type": "code",
   "execution_count": null,
   "id": "806e3d9b-287f-48ac-a5f5-7059d3b347fe",
   "metadata": {},
   "outputs": [],
   "source": []
  }
 ],
 "metadata": {
  "kernelspec": {
   "display_name": "Python 3 (ipykernel)",
   "language": "python",
   "name": "python3"
  },
  "language_info": {
   "codemirror_mode": {
    "name": "ipython",
    "version": 3
   },
   "file_extension": ".py",
   "mimetype": "text/x-python",
   "name": "python",
   "nbconvert_exporter": "python",
   "pygments_lexer": "ipython3",
   "version": "3.10.8"
  }
 },
 "nbformat": 4,
 "nbformat_minor": 5
}
