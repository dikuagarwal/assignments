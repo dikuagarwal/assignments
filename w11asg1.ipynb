{
 "cells": [
  {
   "cell_type": "markdown",
   "id": "0f9343f5-1ee1-4d01-814c-e23ba106a020",
   "metadata": {},
   "source": [
    "Q1: What is the difference between a t-test and a z-test? Provide an example scenario where you would\n",
    "use each type of test.<br>\n",
    "Ans. Both t-tests and z-tests are statistical hypothesis tests used to make inferences about population parameters based on sample data. T test is use in case of when sample size is small and populatation std is not given and z test is used in case of when sample size is large enough mostly >30 and population std is given.<hr>"
   ]
  },
  {
   "cell_type": "markdown",
   "id": "a2bf710a-ebb5-4716-8877-57a6f7cd0b23",
   "metadata": {},
   "source": [
    "Q2: Differentiate between one-tailed and two-tailed tests.<br>\n",
    "ans. A one-tailed test assesses the significance in one specific direction, while a two-tailed test assesses significance in both directions around the null hypothesis.<hr>"
   ]
  },
  {
   "cell_type": "markdown",
   "id": "ae5e30f8-dae9-4bcc-a2e7-fd18c2a5c48c",
   "metadata": {},
   "source": [
    "Q3: Explain the concept of Type 1 and Type 2 errors in hypothesis testing. Provide an example scenario for\n",
    "each type of error.<br>\n",
    "Ans. A Type 1 error occurs when the null hypothesis is incorrectly rejected when it is actually true. <br>\n",
    "A Type 2 error occurs when the null hypothesis is incorrectly failed to be rejected when it is actually false.<hr>\n"
   ]
  },
  {
   "cell_type": "markdown",
   "id": "436dc583-fe36-4ed6-8776-11e9516c79dc",
   "metadata": {},
   "source": [
    "Q4: Explain Bayes's theorem with an example.<br>\n",
    "Ans. Bayes's theorem is a fundamental concept in probability theory and statistics that allows us to update the probability of an event based on new evidence or information. It provides a way to calculate the conditional probability of an event A given that event B has occurred.<hr>\n"
   ]
  },
  {
   "cell_type": "markdown",
   "id": "6697f317-fad3-4f18-853e-ac4115cb9cb9",
   "metadata": {},
   "source": [
    "Q5: What is a confidence interval? How to calculate the confidence interval, explain with an example.<br>\n",
    "Ans. A confidence interval is a range of values within the population parameter is likely to fall with a certain level of confidence. It can calculated by formula, x̄ ± (critical value)*(σ/√n).<hr>"
   ]
  },
  {
   "cell_type": "markdown",
   "id": "d219a9c2-0f45-482d-914f-c6c39cc83f90",
   "metadata": {},
   "source": [
    "Q6. Use Bayes' Theorem to calculate the probability of an event occurring given prior knowledge of the\n",
    "event's probability and new evidence. Provide a sample problem and solution.<br>\n",
    "Ans. Suppose we have a bag of colored marbles. The bag contains 80% red marbles and 20% blue marbles. Now, we randomly draw one marble from the bag and without looking at its color, we give it to a friend who tells us whether the marble is red or blue. Unfortunately, our friend's vision is not perfect, and they have a 10% chance of making a mistake in identifying the color. Given that our friend says the marble is red, what is the probability that it is indeed red?<br>\n",
    "event A: Marble is red and event B: friend say is it red. We need to calculate probality of a after b.<br>\n",
    "probality of B after A: 0.90<br>\n",
    "Probality of A: 0.8<br>\n",
    "Probality of B: p(B/A)*p(A) + p(B/ -A) * p(-A) = 0.9*0.8  + 0.1 * 0.2  = 0.74<br>\n",
    "P(A/B) = (P(B/A) * P(A)) / p(B) = (0.90 * 0.8)/0.74 = 0.973<hr>"
   ]
  },
  {
   "cell_type": "markdown",
   "id": "90a4c535-b904-410e-b012-722f906c97b4",
   "metadata": {},
   "source": [
    "Q7. Calculate the 95% confidence interval for a sample of data with a mean of 50 and a standard deviation\n",
    "of 5. Interpret the results."
   ]
  },
  {
   "cell_type": "code",
   "execution_count": 1,
   "id": "c29edee8-6bba-4bfe-9381-9de60853783b",
   "metadata": {},
   "outputs": [
    {
     "name": "stdout",
     "output_type": "stream",
     "text": [
      "1.9599639845400545\n",
      "Confidence Interval: [48.04003601545995,51.95996398454005]\n"
     ]
    }
   ],
   "source": [
    "from scipy.stats import norm\n",
    "import math\n",
    "sm= 50\n",
    "std = 5\n",
    "sample_size = 25\n",
    "alpha = 0.05\n",
    "critical_Z = abs(norm.ppf(alpha/2))   # or 1 -alpha and for 2-tail test alpha/2\n",
    "print(critical_Z)\n",
    "std_error = std/ math.sqrt(sample_size)\n",
    "lower_value = sm - critical_Z*std_error\n",
    "upper_value = sm + critical_Z*std_error\n",
    "print(f\"Confidence Interval: [{lower_value},{upper_value}]\")"
   ]
  },
  {
   "cell_type": "markdown",
   "id": "4f87b2b2-46b8-4969-a175-1bcbb749ef08",
   "metadata": {},
   "source": [
    "<hr>Q8. What is the margin of error in a confidence interval? How does sample size affect the margin of error?\n",
    "Provide an example of a scenario where a larger sample size would result in a smaller margin of error.<br>\n",
    "Ans. The margin of error is the maximum amount by which the sample estimate is expected to differ from the true population parameter.<br>\n",
    "It is calculated by the: (critical value) * (std/ sqrt of sample size. as the sample size increase the margin of error decrease.<hr>"
   ]
  },
  {
   "cell_type": "markdown",
   "id": "c5949a82-742c-48b5-b77a-5aa5cf8b4900",
   "metadata": {},
   "source": [
    "Q9. Calculate the z-score for a data point with a value of 75, a population mean of 70, and a population\n",
    "standard deviation of 5. Interpret the results."
   ]
  },
  {
   "cell_type": "code",
   "execution_count": 2,
   "id": "80e146ad-3a05-4995-8384-15ec738949c8",
   "metadata": {},
   "outputs": [
    {
     "name": "stdout",
     "output_type": "stream",
     "text": [
      "The z-score is: 1.0\n"
     ]
    }
   ],
   "source": [
    "data_point = 75\n",
    "population_mean = 70\n",
    "population_std_dev = 5\n",
    "\n",
    "# Calculate the z-score\n",
    "z_score = (data_point - population_mean) / population_std_dev\n",
    "\n",
    "\n",
    "print(\"The z-score is:\", z_score)"
   ]
  },
  {
   "cell_type": "markdown",
   "id": "82c98b60-3813-41cf-b858-435931e3cafb",
   "metadata": {},
   "source": [
    "<hr>Q10. In a study of the effectiveness of a new weight loss drug, a sample of 50 participants lost an average\n",
    "of 6 pounds with a standard deviation of 2.5 pounds. Conduct a hypothesis test to determine if the drug is\n",
    "significantly effective at a 95% confidence level using a t-test."
   ]
  },
  {
   "cell_type": "code",
   "execution_count": 3,
   "id": "16628b68-f9a7-4b6e-b0cf-24e2af32db09",
   "metadata": {},
   "outputs": [
    {
     "name": "stdout",
     "output_type": "stream",
     "text": [
      "16.970562748477143\n",
      "1.6765508919142629\n",
      "reject the null hypothesis, medicine have significant effect\n"
     ]
    }
   ],
   "source": [
    "ss = 50\n",
    "sm = 6\n",
    "sstd = 2.5\n",
    "null_hypo = \"Medicine does not have a significant effect (population mean weight loss (μ) <= 0 pounds)\"\n",
    "alternative_hypothesis = \"The weight loss drug is significantly effective (μ > 0 pounds)\"\n",
    "u = 0\n",
    "ts = (sm-u)/(sstd/ ss**0.5)\n",
    "print(ts)\n",
    "df = ss-1\n",
    "from scipy.stats import t\n",
    "ct = t.ppf(0.95,df)\n",
    "print(ct)\n",
    "if ct< ts:\n",
    "    print(\"reject the null hypothesis, medicine have significant effect\")"
   ]
  },
  {
   "cell_type": "markdown",
   "id": "cc614273-16e4-44e2-b74f-8871465ab113",
   "metadata": {},
   "source": [
    "<hr>Q11. In a survey of 500 people, 65% reported being satisfied with their current job. Calculate the 95%\n",
    "confidence interval for the true proportion of people who are satisfied with their job.<br>\n",
    "Ans. To calculate the 95% confidence interval for the true proportion of people who are satisfied with their job, we can use the formula for confidence intervals for proportions.\n",
    "\n",
    "The formula for a confidence interval for a proportion (p) is given by:<br>\n",
    "confidenece interval = sample purporation(p) ± (critical Z value * [(p * (1-P)) / n] ** 0.5)"
   ]
  },
  {
   "cell_type": "code",
   "execution_count": 4,
   "id": "ec842a25-e690-4a2d-a7bd-bdd9fa3f5edf",
   "metadata": {},
   "outputs": [
    {
     "name": "stdout",
     "output_type": "stream",
     "text": [
      "confiddence interval [0.6918082288550951, 0.608191771144905]\n"
     ]
    }
   ],
   "source": [
    "ss=500\n",
    "p = 0.65\n",
    "cz = 1.96   # for alpha = 0.05\n",
    "\n",
    "upper_value = p + (cz * ((p * (1-p))/ ss)**0.5)\n",
    "lower_value = p - (cz * ((p * (1-p))/ ss)**0.5)\n",
    "\n",
    "print(f\"confiddence interval [{upper_value}, {lower_value}]\")"
   ]
  },
  {
   "cell_type": "markdown",
   "id": "73c12fc2-d2aa-40ec-852a-99779d66fec3",
   "metadata": {},
   "source": [
    "<hr>Q12. A researcher is testing the effectiveness of two different teaching methods on student performance.\n",
    "Sample A has a mean score of 85 with a standard deviation of 6, while sample B has a mean score of 82\n",
    "with a standard deviation of 5. Conduct a hypothesis test to determine if the two teaching methods have a\n",
    "significant difference in student performance using a t-test with a significance level of 0.01.<br>\n",
    "Ans.  in this question we need to use a two-sample t-test, also known as an independent 2 samples t-test. "
   ]
  },
  {
   "cell_type": "code",
   "execution_count": 5,
   "id": "1ee7b8fb-b169-4104-90ae-2fe7b086cc73",
   "metadata": {},
   "outputs": [
    {
     "name": "stdout",
     "output_type": "stream",
     "text": [
      "1.7177950029416047\n",
      "2.7115576019130625\n",
      "fail to reject the null hypothesis\n"
     ]
    }
   ],
   "source": [
    "sm1 = 85\n",
    "std1 = 6\n",
    "sm2 = 82\n",
    "std2 = 5\n",
    "ss1 = 20\n",
    "ss2 = 20\n",
    "dof = ss1+ss2 - 2\n",
    "null_hypothesis = \"There is no significant difference in student performance between the two teaching methods (μ_A = μ_B)\"\n",
    "alternative_hypothesis = \"There is a significant difference in student performance between the two teaching methods (μ_A ≠ μ_B)\"\n",
    "\n",
    "pooled_std_dev = ((std1 ** 2 * (ss1 - 1) + std2 ** 2 * (ss2 - 1)) / (ss1 + ss2 - 2)) ** 0.5\n",
    "\n",
    "# Calculate the t-score\n",
    "t_score = (sm1 - sm2) / (pooled_std_dev * (1 / ss1 + 1 / ss2) ** 0.5)\n",
    "print(t_score)\n",
    "\n",
    "from scipy.stats  import t\n",
    "ct = t.ppf(1 - (0.01/2),dof)\n",
    "print(ct)\n",
    "\n",
    "if ct < t_score:\n",
    "    print(\"reject the null hypothesis\")\n",
    "else:\n",
    "    print(\"fail to reject the null hypothesis\")"
   ]
  },
  {
   "cell_type": "markdown",
   "id": "56b8d24d-b022-44a1-bc07-8e2dcdc063b0",
   "metadata": {},
   "source": [
    "<hr>\n",
    "Q13. A population has a mean of 60 and a standard deviation of 8. A sample of 50 observations has a mean\n",
    "of 65. Calculate the 90% confidence interval for the true population mean."
   ]
  },
  {
   "cell_type": "code",
   "execution_count": 6,
   "id": "a8a43ddf-add1-41d9-88e4-71e369fe380c",
   "metadata": {},
   "outputs": [
    {
     "name": "stdout",
     "output_type": "stream",
     "text": [
      "1.131370849898476\n",
      "1.6448536269514729\n",
      "Confidence Interval: [63.13906055411732,66.86093944588268]\n"
     ]
    }
   ],
   "source": [
    "u = 60\n",
    "pstd = 8\n",
    "sss = 50\n",
    "sm = 65\n",
    "std_error = pstd/math.sqrt(sss)\n",
    "print(std_error)\n",
    "alpha = 0.1\n",
    "critical_Z = abs(norm.ppf(alpha/2))  \n",
    "print(critical_Z)\n",
    "lower_value = sm - critical_Z*std_error\n",
    "upper_value = sm + critical_Z*std_error\n",
    "print(f\"Confidence Interval: [{lower_value},{upper_value}]\")"
   ]
  },
  {
   "cell_type": "markdown",
   "id": "0bf1e66d-4a2d-4591-9b73-bb0cab135541",
   "metadata": {},
   "source": [
    "<hr>Q14. In a study of the effects of caffeine on reaction time, a sample of 30 participants had an average\n",
    "reaction time of 0.25 seconds with a standard deviation of 0.05 seconds. Conduct a hypothesis test to\n",
    "determine if the caffeine has a significant effect on reaction time at a 90% confidence level using a t-test."
   ]
  },
  {
   "cell_type": "code",
   "execution_count": 7,
   "id": "fb694bed-404f-41bc-acf9-85c8c5a4addd",
   "metadata": {},
   "outputs": [
    {
     "name": "stdout",
     "output_type": "stream",
     "text": [
      "fail to reject the null hypothesis\n"
     ]
    }
   ],
   "source": [
    "ss =30\n",
    "sm = 0.25\n",
    "sstd=0.05\n",
    "alpha = 0.1\n",
    "# Set up the null and alternative hypotheses\n",
    "null_hypothesis = \"Caffeine has no significant effect on reaction time (population mean reaction time (μ) <= 0.25 seconds)\"\n",
    "alternative_hypothesis = \"Caffeine has a significant effect on reaction time (μ > 0.25 seconds)\"\n",
    "\n",
    "u = 0.25\n",
    "tstat = (sm - u)/ (sstd/ ss**0.5)\n",
    "df = ss - 1\n",
    "from scipy.stats import t\n",
    "ct = t.ppf(0.9,df)\n",
    "\n",
    "if tstat < ct:\n",
    "    print(\"fail to reject the null hypothesis\")"
   ]
  },
  {
   "cell_type": "code",
   "execution_count": null,
   "id": "998576f3-9b29-46c0-a6b7-2c9e8ac7100a",
   "metadata": {},
   "outputs": [],
   "source": []
  }
 ],
 "metadata": {
  "kernelspec": {
   "display_name": "Python 3 (ipykernel)",
   "language": "python",
   "name": "python3"
  },
  "language_info": {
   "codemirror_mode": {
    "name": "ipython",
    "version": 3
   },
   "file_extension": ".py",
   "mimetype": "text/x-python",
   "name": "python",
   "nbconvert_exporter": "python",
   "pygments_lexer": "ipython3",
   "version": "3.10.8"
  }
 },
 "nbformat": 4,
 "nbformat_minor": 5
}
