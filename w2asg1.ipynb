{
 "cells": [
  {
   "cell_type": "markdown",
   "id": "02db0130-cbd1-4079-9768-050dbc51bc4a",
   "metadata": {},
   "source": [
    "Q1. How do you comment code in Python? What are the different types of comments? <br>\n",
    "Ans. with help of \"#\" command we can comment code in python. there are 2 type of comment, 1. single line 2. multi line comment"
   ]
  },
  {
   "cell_type": "markdown",
   "id": "d9c9080d-daaf-46fa-b104-8d43c3024037",
   "metadata": {},
   "source": [
    "Q2. What are variables in Python? How do you declare and assign values to variables?<br>\n",
    "Ans. A Python variable is a symbolic name that is a reference or pointer to an object. <br>we need to do is give it a name, \n",
    "put the equal sign ( = ) and then the value that we want to assign. "
   ]
  },
  {
   "cell_type": "markdown",
   "id": "a4fce6b1-4128-4917-a865-0d3806ebc692",
   "metadata": {},
   "source": [
    "Q3. How do you convert one data type to another in Python?<br>\n",
    "Ans. with help of typecasing we can convert one data type to an another data type"
   ]
  },
  {
   "cell_type": "markdown",
   "id": "e2462ca9-b813-4d78-ba72-320376d618b4",
   "metadata": {},
   "source": [
    "Q4. How do you write and execute a Python script from the command line?<br>\n",
    "Ans. To run Python scripts with the python command, you need to open a command-line and type in the word python,<br>\n",
    "or python3 if you have both versions, followed by the path to your script, just like this: $ python3 hello.py Hello World!"
   ]
  },
  {
   "cell_type": "markdown",
   "id": "e456ac04-9471-450f-8629-dc68691afacf",
   "metadata": {},
   "source": [
    "Q5. Given a list my_list = [1, 2, 3, 4, 5], write the code to slice the list and obtain the sub-list [2, 3]."
   ]
  },
  {
   "cell_type": "code",
   "execution_count": 2,
   "id": "14590069-176b-4fd7-945e-cba73f620973",
   "metadata": {},
   "outputs": [
    {
     "data": {
      "text/plain": [
       "[2, 3]"
      ]
     },
     "execution_count": 2,
     "metadata": {},
     "output_type": "execute_result"
    }
   ],
   "source": [
    "my_list = [1, 2, 3, 4, 5]\n",
    "my_list[1:3]"
   ]
  },
  {
   "cell_type": "markdown",
   "id": "5e2b3635-b044-42ea-9aa4-3f43f44f277a",
   "metadata": {},
   "source": [
    "Q6. What is a complex number in mathematics, and how is it represented in Python?<br>\n",
    "Ans. The complex data type in python consists of two values,the first one is the real part of the complex number,\n",
    "and the second one is the imaginary part of the complex number. We usually denote the real part using i \n",
    "and the imaginary part with j. \n",
    "For example, (3 + 7j) or (3i + 7j)."
   ]
  },
  {
   "cell_type": "markdown",
   "id": "21ed3cdf-4053-4bbe-8a70-81687f881596",
   "metadata": {},
   "source": [
    "Q7. What is the correct way to declare a variable named age and assign the value 25 to it?"
   ]
  },
  {
   "cell_type": "code",
   "execution_count": 4,
   "id": "9a9cc5ce-164d-451c-aa85-3d89b96f8db7",
   "metadata": {},
   "outputs": [],
   "source": [
    "age = 25"
   ]
  },
  {
   "cell_type": "markdown",
   "id": "22cf1737-f9a5-4918-9b92-71458c5742e0",
   "metadata": {},
   "source": [
    "Q8. Declare a variable named price and assign the value 9.99 to it. What data type does this variable\n",
    "belong to?"
   ]
  },
  {
   "cell_type": "code",
   "execution_count": 5,
   "id": "c58410f1-7f70-4782-b07b-ba8cc3f03137",
   "metadata": {},
   "outputs": [
    {
     "data": {
      "text/plain": [
       "float"
      ]
     },
     "execution_count": 5,
     "metadata": {},
     "output_type": "execute_result"
    }
   ],
   "source": [
    "price = 9.99\n",
    "type(price)"
   ]
  },
  {
   "cell_type": "markdown",
   "id": "d0be8edb-e0c7-4303-b98a-3af531c9617b",
   "metadata": {},
   "source": [
    "Q9. Create a variable named name and assign your full name to it as a string. How would you print the\n",
    "value of this variable?"
   ]
  },
  {
   "cell_type": "code",
   "execution_count": 6,
   "id": "79b1694b-262e-4b03-abda-525b6ebdb412",
   "metadata": {},
   "outputs": [
    {
     "name": "stdout",
     "output_type": "stream",
     "text": [
      "harsh jalan\n"
     ]
    }
   ],
   "source": [
    "name = \"harsh jalan\"\n",
    "print(name)"
   ]
  },
  {
   "cell_type": "markdown",
   "id": "7cd641bf-2d20-4d12-81d4-e2da01682c38",
   "metadata": {},
   "source": [
    "Q10. Given the string \"Hello, World!\", extract the substring \"World\"."
   ]
  },
  {
   "cell_type": "code",
   "execution_count": 7,
   "id": "a41932e7-2e06-47c0-90ca-7adc8b863b84",
   "metadata": {},
   "outputs": [
    {
     "data": {
      "text/plain": [
       "'world'"
      ]
     },
     "execution_count": 7,
     "metadata": {},
     "output_type": "execute_result"
    }
   ],
   "source": [
    "s = \"hello, world!\"\n",
    "a  = s.find(\"world\")\n",
    "s[a:-1]"
   ]
  },
  {
   "cell_type": "code",
   "execution_count": null,
   "id": "e500b80d-e1de-47f4-97ca-d43398f66174",
   "metadata": {},
   "outputs": [],
   "source": []
  }
 ],
 "metadata": {
  "kernelspec": {
   "display_name": "Python 3 (ipykernel)",
   "language": "python",
   "name": "python3"
  },
  "language_info": {
   "codemirror_mode": {
    "name": "ipython",
    "version": 3
   },
   "file_extension": ".py",
   "mimetype": "text/x-python",
   "name": "python",
   "nbconvert_exporter": "python",
   "pygments_lexer": "ipython3",
   "version": "3.10.8"
  }
 },
 "nbformat": 4,
 "nbformat_minor": 5
}
