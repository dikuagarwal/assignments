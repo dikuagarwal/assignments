{
 "cells": [
  {
   "cell_type": "markdown",
   "id": "78d336a6-a118-4115-9c71-79e461f848c7",
   "metadata": {},
   "source": [
    "Q1. What is data encoding? How is it useful in data science?<br>\n",
    "Ans. Data encoding is process of converting categorical feature to a numerical feature so that it can be used for analysis, modeling, and machine learning tasks. In data science, data encoding is crucial because many algorithms and models require numeric input. <hr>"
   ]
  },
  {
   "cell_type": "markdown",
   "id": "dbd7e99e-1952-4cf7-bc23-9b05e7fc9d3b",
   "metadata": {},
   "source": [
    "Q2. What is nominal encoding? Provide an example of how you would use it in a real-world scenario.<br>\n",
    "Ans. Nominal encoding, also known as categorical encoding, is a technique used to convert categorical variables with nominal or unordered categories into a numerical format that can be used for analysis and modeling. One of the most common methods of nominal encoding is \"One-Hot Encoding.\"<hr>"
   ]
  },
  {
   "cell_type": "markdown",
   "id": "8358902a-368a-482c-84b1-8de247ee45b6",
   "metadata": {},
   "source": [
    "Q3. In what situations is nominal encoding preferred over one-hot encoding? Provide a practical example.<br>\n",
    "Ans. the choice between nominal encoding and one-hot encoding depends on your specific goals, the nature of the categorical variable, and the characteristics of your dataset.When dealing with categorical variables with a high number of categories (high cardinality), one-hot encoding can lead to a significant increase in the number of features, which might cause issues with computational efficiency and model complexity. Nominal encoding reduces the dimensionality of the data and can be a more memory-efficient choice in such cases. f you have limited data and too many categories, nominal encoding might be a better choice, as it doesn't create separate features for each category.<hr>"
   ]
  },
  {
   "cell_type": "markdown",
   "id": "e81fd81d-3899-4311-9e08-6ac419d3a7ec",
   "metadata": {},
   "source": [
    "Q4. Suppose you have a dataset containing categorical data with 5 unique values. Which encoding\n",
    "technique would you use to transform this data into a format suitable for machine learning algorithms?\n",
    "Explain why you made this choice.<br>\n",
    "Ans. In this case i will prefare one-hot encoding techniques because no of unique categories is less. One-Hot Encoding preserves the original categorical information while representing it numerically. Each unique value gets its own binary column, making it easy for machine learning algorithms to work with.<hr>"
   ]
  },
  {
   "cell_type": "markdown",
   "id": "dd8ac138-d70e-47ed-b7d4-8a7fa9b0b555",
   "metadata": {},
   "source": [
    "Q5. In a machine learning project, you have a dataset with 1000 rows and 5 columns. Two of the columns\n",
    "are categorical, and the remaining three columns are numerical. If you were to use nominal encoding to\n",
    "transform the categorical data, how many new columns would be created? Show your calculations.<br>\n",
    "Ans. In this case if we use nominal encoding then we need to identifies no of uniques categories in categorical feature, let's suppose both cateogorical feature have 5 unique categories, then total no of new columns is 5+5 = 10 (binary columns).<hr>"
   ]
  },
  {
   "cell_type": "markdown",
   "id": "7fb24616-ed33-4738-bbd9-1718903b0f73",
   "metadata": {},
   "source": [
    "Q6. You are working with a dataset containing information about different types of animals, including their\n",
    "species, habitat, and diet. Which encoding technique would you use to transform the categorical data into\n",
    "a format suitable for machine learning algorithms? Justify your answer.<br>\n",
    "Ans. I will use one hot encoding for diet and habitata because normally have a less no of unique categories. Target encoding for \"species\" captures the relationship between species and the target variable, potentially providing predictive power for species-related behaviors.<hr>"
   ]
  },
  {
   "cell_type": "markdown",
   "id": "f198ab19-a680-4f5f-8674-a320b6b4f028",
   "metadata": {},
   "source": [
    "Q7.You are working on a project that involves predicting customer churn for a telecommunications\n",
    "company. You have a dataset with 5 features, including the customer's gender, age, contract type,\n",
    "monthly charges, and tenure. Which encoding technique(s) would you use to transform the categorical\n",
    "data into numerical data? Provide a step-by-step explanation of how you would implement the encoding.<br>\n",
    "Ans. For gender i will choose one hot encoding because there are only 2 categories and with contract type I Use Label Encoding for categorical variables with ordinal relationships, where the categories have a specific order or ranking.<hr>"
   ]
  },
  {
   "cell_type": "code",
   "execution_count": null,
   "id": "e0903151-aa5b-4b52-8aec-97fc47067b95",
   "metadata": {},
   "outputs": [],
   "source": []
  }
 ],
 "metadata": {
  "kernelspec": {
   "display_name": "Python 3 (ipykernel)",
   "language": "python",
   "name": "python3"
  },
  "language_info": {
   "codemirror_mode": {
    "name": "ipython",
    "version": 3
   },
   "file_extension": ".py",
   "mimetype": "text/x-python",
   "name": "python",
   "nbconvert_exporter": "python",
   "pygments_lexer": "ipython3",
   "version": "3.10.8"
  }
 },
 "nbformat": 4,
 "nbformat_minor": 5
}
