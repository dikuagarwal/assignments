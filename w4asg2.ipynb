{
 "cells": [
  {
   "cell_type": "markdown",
   "id": "b67078f2-5b96-43df-8d04-f237a2adce45",
   "metadata": {},
   "source": [
    "Q1. Explain Class and Object with respect to Object-Oriented Programming. Give a suitable example.<br>\n",
    "Ans. A class is considered as a blueprint of objects and An object is called an instance of a class."
   ]
  },
  {
   "cell_type": "code",
   "execution_count": 1,
   "id": "e55382ee-b4f3-44c8-bd7c-f8dbd3ce608a",
   "metadata": {},
   "outputs": [],
   "source": [
    "class vehicle:\n",
    "    pass\n",
    "obj = vehicle()"
   ]
  },
  {
   "cell_type": "markdown",
   "id": "8fda5830-7b18-4d59-a84e-8d5773562f12",
   "metadata": {},
   "source": [
    "Q2. Name the four pillars of OOPs. <br>\n",
    "Ans. Polimorphisam, inheritnce, Encapsulation and abstraction"
   ]
  },
  {
   "cell_type": "markdown",
   "id": "7441f1de-7db4-46e2-8185-d4c7152b95ce",
   "metadata": {},
   "source": [
    "Q3. Explain why the __init__() function is used. Give a suitable example.<br>\n",
    "Ans. __init__ constructor is used for initilize the object attributes ot that class. __init__ is a special python method that runs whenever a new object is created."
   ]
  },
  {
   "cell_type": "code",
   "execution_count": 3,
   "id": "6739413c-5d5f-474a-90db-04972c232480",
   "metadata": {},
   "outputs": [],
   "source": [
    "class xyz:\n",
    "    def __init__(self,x,y,z):\n",
    "        self.x = x\n",
    "        self.y = y\n",
    "        self.z = z\n",
    "obj = xyz(5,48,78)"
   ]
  },
  {
   "cell_type": "markdown",
   "id": "0c51dea8-a6b4-43ca-83ea-85f18c0c3057",
   "metadata": {},
   "source": [
    "Q4. Why self is used in OOPs?<br>\n",
    "Ans. SELF represents the instance of class. This handy keyword allows you to access variables, attributes, and methods of a defined class in Python. "
   ]
  },
  {
   "cell_type": "markdown",
   "id": "bb61550c-3914-41fa-b96a-f833daaa55b8",
   "metadata": {},
   "source": [
    "Q5. What is inheritance? Give an example for each type of inheritance.<br>\n",
    "Ans. Inheritance is defined as the mechanism of inheriting the properties of the base class to the child class. there are mainly 3 types of inheritance we use. one is single inheritance, multipel inheritance and multilevel inheritance"
   ]
  },
  {
   "cell_type": "code",
   "execution_count": 8,
   "id": "5fde185f-77d2-4427-8636-d455c6676da3",
   "metadata": {},
   "outputs": [],
   "source": [
    "class  parent1:\n",
    "    pass\n",
    "class parent2(parent1):  # sigle heritance\n",
    "    pass\n",
    "class  parent3(parent2):  # multilevel inheritance\n",
    "    pass\n",
    "class  parent4:\n",
    "    pass\n",
    "class  child(parent1,parent4): # multiple inheritance\n",
    "    pass"
   ]
  },
  {
   "cell_type": "code",
   "execution_count": null,
   "id": "f53a36d0-8f5c-4e10-8964-fa7f5e470fdf",
   "metadata": {},
   "outputs": [],
   "source": []
  }
 ],
 "metadata": {
  "kernelspec": {
   "display_name": "Python 3 (ipykernel)",
   "language": "python",
   "name": "python3"
  },
  "language_info": {
   "codemirror_mode": {
    "name": "ipython",
    "version": 3
   },
   "file_extension": ".py",
   "mimetype": "text/x-python",
   "name": "python",
   "nbconvert_exporter": "python",
   "pygments_lexer": "ipython3",
   "version": "3.10.8"
  }
 },
 "nbformat": 4,
 "nbformat_minor": 5
}
