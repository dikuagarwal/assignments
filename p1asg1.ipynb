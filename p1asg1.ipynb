{
 "cells": [
  {
   "cell_type": "markdown",
   "id": "6ffef01c-de59-4e60-9c96-a6c6bd3813aa",
   "metadata": {},
   "source": [
    "<hr>Q1. What is Web Scraping? Why is it Used? Give three areas where Web Scraping is used to get data.<br>\n",
    "Ans. Web scraping is an automatic method to obtain large amounts of data from websites. Most of this data is unstructured data in an HTML format which is then converted into structured data in a spreadsheet or a database so that it can be used in various applications.<br>\n",
    "Web scraping can be used to extract data from almost any type of website, including blogs, news sites, forums, and social media sites.<br>\n",
    "- Monitoring e-commerce prices.\n",
    "- Finding opportunities for investment.\n",
    "- Analyzing social media web data.\n",
    "\n",
    "<hr>"
   ]
  },
  {
   "cell_type": "markdown",
   "id": "9c81bdab-79b8-4133-a6f5-bf52bd415c7f",
   "metadata": {},
   "source": [
    "Q2. What are the different methods used for Web Scraping?<br>\n",
    "Ans.\n",
    "- HTML parsing: HTML parsing involves using a programming language or library to parse the HTML structure of a webpage and extract the desired data. Popular libraries for HTML parsing is BeautifulSoup.\n",
    "- XPath: XPath is a language used for navigating and selecting elements in XML documents, including HTML. XPath is commonly used with programming languages such as Python and libraries like lxml.\n",
    "- Headless Browsers: Headless browsers, such as Selenium, simulate web browsers without a user interface. They allow you to automate browser actions, navigate websites, and extract data. Headless browsers are useful when dealing with dynamic websites that rely on JavaScript to render content.\n",
    "- APIs: Some websites provide APIs (Application Programming Interfaces) that allow developers to access and retrieve data in a structured manner. APIs are a more reliable and legal way of obtaining data compared to scraping"
   ]
  },
  {
   "cell_type": "markdown",
   "id": "5eb20e18-840d-4847-8fe1-c697fcb39ff2",
   "metadata": {},
   "source": [
    "<hr> Q3. What is Beautiful Soup? Why is it used?<br>\n",
    "Ans. Beautiful Soup is a popular Python library used for web scraping and parsing HTML or XML documents. It provides a convenient way to extract data from web pages by traversing and searching through the HTML structure. Beautiful Soup allows you to parse HTML or XML documents, converting them into a parse tree. Beautiful Soup provides flexible methods to search for HTML elements based on tags, attributes, or combinations thereof.<hr>"
   ]
  },
  {
   "cell_type": "markdown",
   "id": "c767da54-7c96-45cd-aac8-ba18baab9727",
   "metadata": {},
   "source": [
    "Q4. Why is flask used in this Web Scraping project?<br> \n",
    "Ans. Flask is a web framework that allows you to build a web application around our web scraping code. This can be useful if we want to create a user interface where users can interact with the scraping functionality, input parameters, view results, or manage scraping tasks. Flask is used to develop an API that exposes your scraping functionality to other applications or users.<hr>"
   ]
  },
  {
   "cell_type": "markdown",
   "id": "dff2ab6b-3c48-434b-be2e-a9c11b08c67b",
   "metadata": {},
   "source": [
    "Q5. Write the names of AWS services used in this project. Also, explain the use of each service.<br>\n",
    "Ans. EC2 (Elastic Compute Cloud): EC2 provides virtual servers in the cloud, allowing you to deploy and manage compute resources. In a web scraping project, you can use EC2 instances to run your web scraping code, handle requests, and perform data extraction.<br>\n",
    "API Gateway: API Gateway is a fully managed service for creating, deploying, and managing APIs. In a web scraping project, you can use API Gateway to create a RESTful API that exposes your scraping functionality, allowing external systems or users to trigger scraping tasks or retrieve scraped data through well-defined endpoints.<hr>"
   ]
  },
  {
   "cell_type": "code",
   "execution_count": null,
   "id": "2c70ec95-e9f1-4a5d-a618-76ff799b5956",
   "metadata": {},
   "outputs": [],
   "source": []
  }
 ],
 "metadata": {
  "kernelspec": {
   "display_name": "Python 3 (ipykernel)",
   "language": "python",
   "name": "python3"
  },
  "language_info": {
   "codemirror_mode": {
    "name": "ipython",
    "version": 3
   },
   "file_extension": ".py",
   "mimetype": "text/x-python",
   "name": "python",
   "nbconvert_exporter": "python",
   "pygments_lexer": "ipython3",
   "version": "3.10.8"
  }
 },
 "nbformat": 4,
 "nbformat_minor": 5
}
