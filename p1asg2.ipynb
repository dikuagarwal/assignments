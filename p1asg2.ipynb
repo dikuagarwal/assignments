{
 "cells": [
  {
   "cell_type": "markdown",
   "id": "e7b91575",
   "metadata": {},
   "source": [
    "YouTube dynamically loads its content using JavaScript, which means that simply fetching the HTML source of a page with requests and parsing it with bs4 will not give you all the data we need. we would need to use a headless browser or a library like Selenium to automate a browser to load the page and extract the data we need."
   ]
  },
  {
   "cell_type": "code",
   "execution_count": 1,
   "id": "140fe199",
   "metadata": {},
   "outputs": [],
   "source": [
    "from selenium import webdriver\n",
    "from bs4 import BeautifulSoup\n",
    "from selenium.webdriver.chrome.service import Service\n",
    "from webdriver_manager.chrome import ChromeDriverManager\n",
    "import time\n"
   ]
  },
  {
   "cell_type": "code",
   "execution_count": 2,
   "id": "0fc5dc26",
   "metadata": {},
   "outputs": [],
   "source": [
    "driver = webdriver.Chrome(service= Service(ChromeDriverManager().install()))\n",
    "# Load the YouTube search page\n",
    "driver.get('https://www.youtube.com/@PW-Foundation/videos')\n",
    "\n",
    "time.sleep(30)   # wait time for loading all content"
   ]
  },
  {
   "cell_type": "code",
   "execution_count": 3,
   "id": "819b7c38",
   "metadata": {},
   "outputs": [],
   "source": [
    "page_source = driver.page_source\n",
    "soup = BeautifulSoup(page_source, 'html.parser')"
   ]
  },
  {
   "cell_type": "markdown",
   "id": "b014b446",
   "metadata": {},
   "source": [
    "URL: https://www.youtube.com/@PW-Foundation/videos <br>\n",
    "Q1. Write a python program to extract the video URL of the first five videos."
   ]
  },
  {
   "cell_type": "code",
   "execution_count": 4,
   "id": "9bfece71",
   "metadata": {},
   "outputs": [
    {
     "name": "stdout",
     "output_type": "stream",
     "text": [
      "780\n",
      "https://www.youtube.com//watch?v=1izKrQHyx9M\n",
      "https://www.youtube.com//watch?v=jXAb1evxaJc\n",
      "https://www.youtube.com//watch?v=2dn7XMxRtPE\n",
      "https://www.youtube.com//watch?v=Fks4dVnTb5M\n",
      "https://www.youtube.com//watch?v=nIuGXeISbSo\n",
      "https://www.youtube.com//watch?v=p9pqo970kjw\n",
      "https://www.youtube.com//watch?v=L5G-0FbyAsc\n",
      "https://www.youtube.com//watch?v=uqDX6hcRf2I\n",
      "https://www.youtube.com//watch?v=9ZVfDuqKIQM\n"
     ]
    }
   ],
   "source": [
    "x = soup.find_all(\"a\",{\"id\":\"thumbnail\", \"class\":\"yt-simple-endpoint inline-block style-scope ytd-thumbnail\"})\n",
    "print(len(x))\n",
    "for i in x[0:10]:\n",
    "        try:\n",
    "            print(\"https://www.youtube.com/\"+i[\"href\"])\n",
    "        except:\n",
    "            pass\n"
   ]
  },
  {
   "cell_type": "markdown",
   "id": "86ea41fe",
   "metadata": {},
   "source": [
    "Q2. Write a python program to extract the URL of the video thumbnails of the first five videos."
   ]
  },
  {
   "cell_type": "code",
   "execution_count": 5,
   "id": "2d9728a7",
   "metadata": {},
   "outputs": [
    {
     "name": "stdout",
     "output_type": "stream",
     "text": [
      "https://i.ytimg.com/vi/1izKrQHyx9M/hqdefault.jpg?sqp=-oaymwEcCNACELwBSFXyq4qpAw4IARUAAIhCGAFwAcABBg==&rs=AOn4CLCvjSUCwD4j5ZVE_nUMLg6QNCpkfg\n",
      "https://i.ytimg.com/vi/jXAb1evxaJc/hqdefault.jpg?sqp=-oaymwEcCNACELwBSFXyq4qpAw4IARUAAIhCGAFwAcABBg==&rs=AOn4CLBs0CPJgSnMgMMu57VSlYuPtsxS5w\n",
      "https://i.ytimg.com/vi/2dn7XMxRtPE/hqdefault.jpg?sqp=-oaymwEcCNACELwBSFXyq4qpAw4IARUAAIhCGAFwAcABBg==&rs=AOn4CLB3MjWwoAHyIqxPMuRq73dnbPfgUA\n",
      "https://i.ytimg.com/vi/Fks4dVnTb5M/hqdefault.jpg?sqp=-oaymwEcCNACELwBSFXyq4qpAw4IARUAAIhCGAFwAcABBg==&rs=AOn4CLCpN6SRs504BkLaWh3ANqNHoN6mxw\n",
      "https://i.ytimg.com/vi/nIuGXeISbSo/hqdefault.jpg?sqp=-oaymwEcCNACELwBSFXyq4qpAw4IARUAAIhCGAFwAcABBg==&rs=AOn4CLCghcINT4Se0KVLv5hCY4FEXfcprw\n",
      "https://i.ytimg.com/vi/p9pqo970kjw/hqdefault.jpg?sqp=-oaymwEcCNACELwBSFXyq4qpAw4IARUAAIhCGAFwAcABBg==&rs=AOn4CLDlVV4CbDnqGHS2UuXZ6hPJWtSQkA\n",
      "https://i.ytimg.com/vi/L5G-0FbyAsc/hqdefault.jpg?sqp=-oaymwEcCNACELwBSFXyq4qpAw4IARUAAIhCGAFwAcABBg==&rs=AOn4CLAjVBrA1MNNj50R5x6OMa8nbS0_lQ\n",
      "https://i.ytimg.com/vi/uqDX6hcRf2I/hqdefault.jpg?sqp=-oaymwEcCNACELwBSFXyq4qpAw4IARUAAIhCGAFwAcABBg==&rs=AOn4CLAirHTP5SepFLSPeuJLFl1cSkPfmg\n"
     ]
    }
   ],
   "source": [
    "soup2 = soup.find_all(\"div\",{\"id\":\"contents\",\"class\":\"style-scope ytd-rich-grid-row\"})\n",
    "# len(soup2)\n",
    "\n",
    "for i in soup2[0:2]:\n",
    "    imag = i.find_all(\"img\")\n",
    "    for j in imag:\n",
    "        try:\n",
    "            print(j['src'])\n",
    "        except:\n",
    "            pass"
   ]
  },
  {
   "cell_type": "markdown",
   "id": "d61ab973",
   "metadata": {},
   "source": [
    "Q3. Write a python program to extract the title of the first five videos."
   ]
  },
  {
   "cell_type": "code",
   "execution_count": 6,
   "id": "c0094165",
   "metadata": {},
   "outputs": [
    {
     "name": "stdout",
     "output_type": "stream",
     "text": [
      "⚡Unleashing the Power of PW Internationally⚡| Launching Physics Wallah Gulf\n",
      "Big Announcement for Gulf Region Aspirants 🔥| Physics Wallah Gulf Channel Trailer🚀\n",
      "Arjuna JEE v/s Arjuna NEET 🏏- Class 11th Faculties ka Cricket Match 🔥\n",
      "How to Study Zoology in Class 11th? Ab Saare Doubts Solve Honge !! 🔥\n",
      "BIGGEST OFFER For Class - 8th ,9th & 10th Students 🤩 || Grab This Opportunity Now 🔥\n"
     ]
    }
   ],
   "source": [
    "video_titles = soup.find_all('a', {'id': 'video-title-link'})\n",
    "for i in video_titles[0:5]:\n",
    "    print(i.text)"
   ]
  },
  {
   "cell_type": "markdown",
   "id": "0b04e436",
   "metadata": {},
   "source": [
    "Q4. Write a python program to extract the number of views of the first five videos."
   ]
  },
  {
   "cell_type": "code",
   "execution_count": 7,
   "id": "d1d1f914",
   "metadata": {},
   "outputs": [
    {
     "name": "stdout",
     "output_type": "stream",
     "text": [
      "61K views\n",
      "95K views\n",
      "356K views\n",
      "10K views\n",
      "40K views\n"
     ]
    }
   ],
   "source": [
    "y = soup.find_all(\"span\",class_ = \"inline-metadata-item style-scope ytd-video-meta-block\")\n",
    "for i in y[0:10:2]:\n",
    "    print(i.text)"
   ]
  },
  {
   "cell_type": "markdown",
   "id": "d557ad1e",
   "metadata": {},
   "source": [
    "Q5. Write a python program to extract the time of posting of video for the first five videos."
   ]
  },
  {
   "cell_type": "code",
   "execution_count": 8,
   "id": "d0a349c3",
   "metadata": {},
   "outputs": [
    {
     "name": "stdout",
     "output_type": "stream",
     "text": [
      "2 weeks ago\n",
      "3 weeks ago\n",
      "3 weeks ago\n",
      "1 month ago\n",
      "1 month ago\n"
     ]
    }
   ],
   "source": [
    "for i in y[1:11:2]:\n",
    "    print(i.text)"
   ]
  },
  {
   "cell_type": "code",
   "execution_count": 9,
   "id": "dacbf1f3",
   "metadata": {},
   "outputs": [],
   "source": [
    "driver.quit()"
   ]
  },
  {
   "cell_type": "code",
   "execution_count": null,
   "id": "f9902405",
   "metadata": {},
   "outputs": [],
   "source": []
  }
 ],
 "metadata": {
  "kernelspec": {
   "display_name": "Python 3 (ipykernel)",
   "language": "python",
   "name": "python3"
  },
  "language_info": {
   "codemirror_mode": {
    "name": "ipython",
    "version": 3
   },
   "file_extension": ".py",
   "mimetype": "text/x-python",
   "name": "python",
   "nbconvert_exporter": "python",
   "pygments_lexer": "ipython3",
   "version": "3.11.1"
  }
 },
 "nbformat": 4,
 "nbformat_minor": 5
}
