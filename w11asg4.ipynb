{
 "cells": [
  {
   "cell_type": "markdown",
   "id": "ecbe3d8a-60db-4918-9931-7c311bb54932",
   "metadata": {},
   "source": [
    "Q1. Write a Python function that takes in two arrays of data and calculates the F-value for a variance ratio\n",
    "test. The function should return the F-value and the corresponding p-value for the test."
   ]
  },
  {
   "cell_type": "code",
   "execution_count": 8,
   "id": "c24f7597-fc91-49cc-a34a-b7ecd5628227",
   "metadata": {},
   "outputs": [
    {
     "data": {
      "text/plain": [
       "(2.7027027027027026, 0.17942032851965484)"
      ]
     },
     "execution_count": 8,
     "metadata": {},
     "output_type": "execute_result"
    }
   ],
   "source": [
    "import numpy as np\n",
    "import scipy.stats as stats\n",
    "\n",
    "# Example usage\n",
    "data1 = [23, 27, 25, 29, 31]\n",
    "data2 = [35, 38, 37, 40, 39]\n",
    "\n",
    "var1 = np.var(data1)\n",
    "var2 = np.var(data2)\n",
    "\n",
    "f_value = var1/var2\n",
    "df1 = len(data1)-1\n",
    "df2 = len(data2)-1\n",
    "p_value = 1 - stats.f.cdf(f_value, df1, df2)\n",
    "\n",
    "f_value,p_value"
   ]
  },
  {
   "cell_type": "markdown",
   "id": "25f68a05-989a-4c8b-a400-38007eae7d2d",
   "metadata": {},
   "source": [
    "<hr>Q2. Given a significance level of 0.05 and the degrees of freedom for the numerator and denominator of an\n",
    "F-distribution, write a Python function that returns the critical F-value for a two-tailed test."
   ]
  },
  {
   "cell_type": "code",
   "execution_count": 3,
   "id": "0d3ed08c-30e9-4c05-a2d7-23993706e5d0",
   "metadata": {},
   "outputs": [
    {
     "data": {
      "text/plain": [
       "3.8586986662732143"
      ]
     },
     "execution_count": 3,
     "metadata": {},
     "output_type": "execute_result"
    }
   ],
   "source": [
    "alpha = 0.05\n",
    "dfn = 3\n",
    "dfd = 20\n",
    "\n",
    "cv = stats.f.ppf(1-alpha/2,dfn,dfd)\n",
    "cv"
   ]
  },
  {
   "cell_type": "markdown",
   "id": "853a213a-1096-44eb-a8cc-f38ab2995573",
   "metadata": {},
   "source": [
    "<hr>\n",
    "Q3. Write a Python program that generates random samples from two normal distributions with known\n",
    "variances and uses an F-test to determine if the variances are equal. The program should output the F-\n",
    "value, degrees of freedom, and p-value for the test."
   ]
  },
  {
   "cell_type": "code",
   "execution_count": 6,
   "id": "cc4df960-f670-4074-bd45-15d59b5692ef",
   "metadata": {},
   "outputs": [
    {
     "data": {
      "text/plain": [
       "(29, 29, 1.158819046340997, 0.009247445416634692)"
      ]
     },
     "execution_count": 6,
     "metadata": {},
     "output_type": "execute_result"
    }
   ],
   "source": [
    "np.random.seed(0)\n",
    "data1 = np.random.normal(5, np.sqrt(4), 30)\n",
    "data2 = np.random.normal(7, np.sqrt(5), 30)\n",
    "\n",
    "df1 = len(data1)-1\n",
    "df2 = len(data2)-1\n",
    "\n",
    "var1 = np.var(data1)\n",
    "var2 = np.var(data2)\n",
    "f = var1/var2\n",
    "\n",
    "# Calculate the p-value using the F-distribution\n",
    "p_value = 2 * min(stats.f.cdf(f_value, df1, df2), 1 - stats.f.cdf(f_value, df1, df2))\n",
    "\n",
    "df1,df2,f,p_value"
   ]
  },
  {
   "cell_type": "markdown",
   "id": "88aa883a-1be3-43eb-8fd6-1bd173b7cda1",
   "metadata": {},
   "source": [
    "<hr>Q4.The variances of two populations are known to be 10 and 15. A sample of 12 observations is taken from\n",
    "each population. Conduct an F-test at the 5% significance level to determine if the variances are\n",
    "significantly different."
   ]
  },
  {
   "cell_type": "code",
   "execution_count": 16,
   "id": "4915f5ea-7d05-488a-bd61-2e67cd954389",
   "metadata": {},
   "outputs": [
    {
     "data": {
      "text/plain": [
       "(0.6666666666666666, 3.473699051085809, 0.08186423116569443)"
      ]
     },
     "execution_count": 16,
     "metadata": {},
     "output_type": "execute_result"
    }
   ],
   "source": [
    "f = 10/15\n",
    "df1 = 11\n",
    "df2 = 11\n",
    "cf = stats.f.ppf(1 - 0.05/2,df1,df2)\n",
    "p = 2*stats.f.cdf(1-f,df1,df2)\n",
    "f,cf,p"
   ]
  },
  {
   "cell_type": "markdown",
   "id": "b03c0020-e2d6-4eda-87a2-6b9b6fed0088",
   "metadata": {},
   "source": [
    "<hr>Q5. A manufacturer claims that the variance of the diameter of a certain product is 0.005. A sample of 25\n",
    "products is taken, and the sample variance is found to be 0.006. Conduct an F-test at the 1% significance\n",
    "level to determine if the claim is justified."
   ]
  },
  {
   "cell_type": "code",
   "execution_count": 20,
   "id": "63dfbd68-3f3d-4626-a86e-fc146f8928aa",
   "metadata": {},
   "outputs": [
    {
     "name": "stdout",
     "output_type": "stream",
     "text": [
      "Critical F-value: 2.659072104348157\n",
      "fail to reject null hypthesis that claim that variance of daimeter is 0.005\n"
     ]
    }
   ],
   "source": [
    "\n",
    "f = 0.006/0.005   # sample variance/population varaince\n",
    "alpha = 0.01\n",
    "df1 = 24\n",
    "df2 = 24\n",
    "\n",
    "critical_f_value = stats.f.ppf(1 - alpha, df1, df2)  # one tail test\n",
    "print(\"Critical F-value:\", critical_f_value)\n",
    "\n",
    "if f<critical_f_value:\n",
    "    print(\"fail to reject null hypthesis that claim that variance of daimeter is 0.005\")\n"
   ]
  },
  {
   "cell_type": "markdown",
   "id": "a5cd1637-2213-4f31-94b7-34e7c7a04ff7",
   "metadata": {},
   "source": [
    "<hr>Q6. Write a Python function that takes in the degrees of freedom for the numerator and denominator of an\n",
    "F-distribution and calculates the mean and variance of the distribution. The function should return the\n",
    "mean and variance as a tuple."
   ]
  },
  {
   "cell_type": "code",
   "execution_count": 21,
   "id": "8ea5f5a6-2d3c-4130-a667-2ac728df3f7b",
   "metadata": {},
   "outputs": [
    {
     "name": "stdout",
     "output_type": "stream",
     "text": [
      "Mean of F-distribution: 1.25\n",
      "Variance of F-distribution: 1.3541666666666667\n"
     ]
    }
   ],
   "source": [
    "def f_distribution_mean_variance(dfn, dfd):\n",
    "    # Calculate mean of the F-distribution\n",
    "    mean = dfd / (dfd - 2)\n",
    "    \n",
    "    # Calculate variance of the F-distribution\n",
    "    variance = (2 * (dfd ** 2) * (dfn + dfd - 2)) / (dfn * (dfd - 2) ** 2 * (dfd - 4))\n",
    "    \n",
    "    return mean, variance\n",
    "\n",
    "# Example usage\n",
    "dfn = 5  # Degrees of freedom for the numerator\n",
    "dfd = 10  # Degrees of freedom for the denominator\n",
    "\n",
    "mean, variance = f_distribution_mean_variance(dfn, dfd)\n",
    "print(\"Mean of F-distribution:\", mean)\n",
    "print(\"Variance of F-distribution:\", variance)\n"
   ]
  },
  {
   "cell_type": "markdown",
   "id": "48e82c77-ecdf-4ece-a0f6-5d1896fc8649",
   "metadata": {},
   "source": [
    "<hr>Q7. A random sample of 10 measurements is taken from a normal population with unknown variance. The\n",
    "sample variance is found to be 25. Another random sample of 15 measurements is taken from another\n",
    "normal population with unknown variance, and the sample variance is found to be 20. Conduct an F-test\n",
    "at the 10% significance level to determine if the variances are significantly different."
   ]
  },
  {
   "cell_type": "code",
   "execution_count": 28,
   "id": "9ee2bb5b-5205-4800-a577-87fac6a06e05",
   "metadata": {},
   "outputs": [
    {
     "name": "stdout",
     "output_type": "stream",
     "text": [
      "Critical F-value: 2.6457907352338195 1.25\n",
      "fail to reject the null hypothesis means varaiance are not significant differ\n"
     ]
    }
   ],
   "source": [
    "f = 25/20\n",
    "alpha = 0.10\n",
    "df1 = 9\n",
    "df2 = 14\n",
    "\n",
    "critical_f_value = stats.f.ppf(1 - alpha/2, df1, df2)\n",
    "print(\"Critical F-value:\", critical_f_value,f)\n",
    "\n",
    "if f<critical_f_value:\n",
    "    print(\"fail to reject the null hypothesis means varaiance are not significant differ\")"
   ]
  },
  {
   "cell_type": "markdown",
   "id": "29854c39-41a5-42c5-809b-8a76682d5644",
   "metadata": {},
   "source": [
    "<hr>Q8. The following data represent the waiting times in minutes at two different restaurants on a Saturday\n",
    "night: Restaurant A: 24, 25, 28, 23, 22, 20, 27; Restaurant B: 31, 33, 35, 30, 32, 36. Conduct an F-test at the 5%\n",
    "significance level to determine if the variances are significantly different."
   ]
  },
  {
   "cell_type": "code",
   "execution_count": 31,
   "id": "65c18e5c-53f1-480d-a594-df7474257f74",
   "metadata": {},
   "outputs": [
    {
     "name": "stdout",
     "output_type": "stream",
     "text": [
      "1.496767651159843 6.977701858535566\n",
      "fail to reject the null hypothesis means varaiance are not significant differ\n"
     ]
    }
   ],
   "source": [
    "Restaurant_A = [ 24, 25, 28, 23, 22, 20, 27]\n",
    "Restaurant_B = [31, 33, 35, 30, 32, 36]\n",
    "var1 = np.var(Restaurant_A)\n",
    "var2 = np.var(Restaurant_B)\n",
    "\n",
    "f = var1/var2\n",
    "alpha = 0.05\n",
    "df1 = len(Restaurant_A)-1\n",
    "df2 = len(Restaurant_B)-1\n",
    "critical_f_value = stats.f.ppf(1 - alpha/2, df1, df2)\n",
    "print(f,critical_f_value)\n",
    "\n",
    "if f<critical_f_value:\n",
    "    print(\"fail to reject the null hypothesis means varaiance are not significant differ\")"
   ]
  },
  {
   "cell_type": "markdown",
   "id": "790828f6-0579-441d-99bc-df9e7bb6351a",
   "metadata": {},
   "source": [
    "<hr>Q9. The following data represent the test scores of two groups of students: Group A: 80, 85, 90, 92, 87, 83;\n",
    "Group B: 75, 78, 82, 79, 81, 84. Conduct an F-test at the 1% significance level to determine if the variances\n",
    "are significantly different."
   ]
  },
  {
   "cell_type": "code",
   "execution_count": 38,
   "id": "30b75c27-b83e-45ef-aecd-a25ac593a3f8",
   "metadata": {},
   "outputs": [
    {
     "name": "stdout",
     "output_type": "stream",
     "text": [
      "1.9442622950819677 14.939605459912224\n",
      "fail to reject the null hypothesis means varaiance are not significant differ\n"
     ]
    }
   ],
   "source": [
    "A = [80, 85, 90, 92, 87, 83]\n",
    "B= [75, 78, 82, 79, 81, 84]\n",
    "df1 = df2 = 5\n",
    "alpha = 0.01\n",
    "f = np.var(A)/np.var(B)\n",
    "critical_f_value = stats.f.ppf(1 - alpha/2, df1, df2)\n",
    "\n",
    "print(f,critical_f_value)\n",
    "\n",
    "if f<critical_f_value:\n",
    "    print(\"fail to reject the null hypothesis means varaiance are not significant differ\")"
   ]
  },
  {
   "cell_type": "code",
   "execution_count": null,
   "id": "f32147d8-68b3-487d-bce2-4a010a7c6240",
   "metadata": {},
   "outputs": [],
   "source": []
  },
  {
   "cell_type": "code",
   "execution_count": null,
   "id": "cc35203f-c158-47ff-b50c-298f69a1ad0c",
   "metadata": {},
   "outputs": [],
   "source": []
  }
 ],
 "metadata": {
  "kernelspec": {
   "display_name": "Python 3 (ipykernel)",
   "language": "python",
   "name": "python3"
  },
  "language_info": {
   "codemirror_mode": {
    "name": "ipython",
    "version": 3
   },
   "file_extension": ".py",
   "mimetype": "text/x-python",
   "name": "python",
   "nbconvert_exporter": "python",
   "pygments_lexer": "ipython3",
   "version": "3.10.8"
  }
 },
 "nbformat": 4,
 "nbformat_minor": 5
}
