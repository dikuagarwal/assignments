{
 "cells": [
  {
   "cell_type": "markdown",
   "id": "fcb9722f-26fe-401e-9e89-6d42bb28a80a",
   "metadata": {},
   "source": [
    "Q1. What are the three measures of central tendency?<br>\n",
    "Ans. mean, median, mode<hr>"
   ]
  },
  {
   "cell_type": "markdown",
   "id": "cc0bcb45-c321-44bf-88be-f443aedbb90f",
   "metadata": {},
   "source": [
    "Q2. What is the difference between the mean, median, and mode? How are they used to measure the\n",
    "central tendency of a dataset?<br>\n",
    "Ans. mean, median used to find centeral tendancy, normalyy mean is used but in case of outliers median will be used to calculate and mode is used to highest frequented element in data set.<hr>"
   ]
  },
  {
   "cell_type": "markdown",
   "id": "6a0079d4-0c2a-43a9-befb-d0db9a37833e",
   "metadata": {},
   "source": [
    "Q3. Measure the three measures of central tendency for the given height data:\n"
   ]
  },
  {
   "cell_type": "code",
   "execution_count": 1,
   "id": "e41e2a9a-f037-47f4-8616-6f22feeaff17",
   "metadata": {},
   "outputs": [
    {
     "name": "stdout",
     "output_type": "stream",
     "text": [
      "177.01875\n",
      "177.0\n"
     ]
    },
    {
     "name": "stderr",
     "output_type": "stream",
     "text": [
      "/tmp/ipykernel_3902/468563574.py:6: FutureWarning: Unlike other reduction functions (e.g. `skew`, `kurtosis`), the default behavior of `mode` typically preserves the axis it acts along. In SciPy 1.11.0, this behavior will change: the default value of `keepdims` will become False, the `axis` over which the statistic is taken will be eliminated, and the value None will no longer be accepted. Set `keepdims` to True or False to avoid this warning.\n",
      "  stats.mode(d)[0]\n"
     ]
    },
    {
     "data": {
      "text/plain": [
       "array([177.])"
      ]
     },
     "execution_count": 1,
     "metadata": {},
     "output_type": "execute_result"
    }
   ],
   "source": [
    "d = [178,177,176,177,178.2,178,175,179,180,175,178.9,176.2,177,172.5,178,176.5]\n",
    "import numpy as np\n",
    "print(np.mean(d))\n",
    "print(np.median(d))\n",
    "from scipy import stats\n",
    "stats.mode(d)[0]"
   ]
  },
  {
   "cell_type": "markdown",
   "id": "68b71af6-9809-4c24-8769-fd9e47edf40f",
   "metadata": {},
   "source": [
    "Q4. Find the standard deviation for the given data:"
   ]
  },
  {
   "cell_type": "code",
   "execution_count": 2,
   "id": "6908f6e6-d43f-4018-bdfd-54567499af76",
   "metadata": {},
   "outputs": [
    {
     "data": {
      "text/plain": [
       "1.7885814036548633"
      ]
     },
     "execution_count": 2,
     "metadata": {},
     "output_type": "execute_result"
    }
   ],
   "source": [
    "np.std(d)"
   ]
  },
  {
   "cell_type": "markdown",
   "id": "0dff1e3f-f0fa-45c0-9b0c-6a5a4feb02da",
   "metadata": {},
   "source": [
    "<hr>Q5. How are measures of dispersion such as range, variance, and standard deviation used to describe\n",
    "the spread of a dataset? Provide an example.<br>\n",
    "Ans. Standard deviation (SD) is the most commonly used measure of dispersion. It is a measure of spread of data about the mean. <br>\n",
    "variance is a measure of dispersion that takes into account the spread of all data points in a data set.<br>\n",
    "The range is the difference between the largest and the smallest observation in the data.<hr>"
   ]
  },
  {
   "cell_type": "markdown",
   "id": "ee3cc51c-791d-4d15-9238-48af7d745007",
   "metadata": {},
   "source": [
    "Q6. What is a Venn diagram?<br>\n",
    "Ans. A Venn diagram illustrates the relationships between two or more data sets. Venn diagrams are especially useful for highlighting similarities and differences and are commonly used to compare and contrast the characteristics of different data sets. In a Venn diagram, circles are used to represent each data set.<hr>"
   ]
  },
  {
   "cell_type": "markdown",
   "id": "a2bc8aa0-1cfd-4a2d-bf56-05ff29731ed7",
   "metadata": {},
   "source": [
    "Q7. For the two given sets A = (2,3,4,5,6,7) & B = (0,2,6,8,10). Find:"
   ]
  },
  {
   "cell_type": "code",
   "execution_count": 3,
   "id": "d4987540-5ca5-432d-a276-27d23f01e0b6",
   "metadata": {},
   "outputs": [
    {
     "data": {
      "text/plain": [
       "{2, 6}"
      ]
     },
     "execution_count": 3,
     "metadata": {},
     "output_type": "execute_result"
    }
   ],
   "source": [
    "A = set((2,3,4,5,6,7))\n",
    "B = set((0,2,6,8,10))\n",
    "A.intersection(B)"
   ]
  },
  {
   "cell_type": "code",
   "execution_count": 4,
   "id": "8ae985ed-7b95-4632-98e1-1d163c9b61d0",
   "metadata": {},
   "outputs": [
    {
     "data": {
      "text/plain": [
       "{0, 2, 3, 4, 5, 6, 7, 8, 10}"
      ]
     },
     "execution_count": 4,
     "metadata": {},
     "output_type": "execute_result"
    }
   ],
   "source": [
    "A.union(B)"
   ]
  },
  {
   "cell_type": "markdown",
   "id": "026fcddc-592b-4a49-8104-2848f71d8c70",
   "metadata": {},
   "source": [
    "Q8. What do you understand about skewness in data?<br>\n",
    "Ans. Skewness is a measurement of the distortion of symmetrical distribution or asymmetry in a data set.<hr>"
   ]
  },
  {
   "cell_type": "markdown",
   "id": "9404b41f-c798-4e69-9ff7-ace13b701ce9",
   "metadata": {},
   "source": [
    "Q9. If a data is right skewed then what will be the position of median with respect to mean?<br>\n",
    "Ans. mode < median < mean<hr>"
   ]
  },
  {
   "cell_type": "markdown",
   "id": "719b7cd0-c8a5-4b32-aec3-2aef6938222d",
   "metadata": {},
   "source": [
    "Q10. Explain the difference between covariance and correlation. How are these measures used in\n",
    "statistical analysis?<br>\n",
    "Ans. Covariance is an indicator of the extent to which 2 random variables are dependent on each other. A higher number denotes higher dependency. Correlation is a statistical measure that indicates how strongly two variables are related. The value of covariance lies in the range of -∞ and +∞ but and value of corelation is bounded in -1 to +1.<hr>"
   ]
  },
  {
   "cell_type": "markdown",
   "id": "564bb6f2-e571-4d5f-b728-ae131447b851",
   "metadata": {},
   "source": [
    "Q11. What is the formula for calculating the sample mean? Provide an example calculation for a\n",
    "dataset.<br>\n",
    "Ans. mean = sumation of sample data / number of sample data "
   ]
  },
  {
   "cell_type": "code",
   "execution_count": 5,
   "id": "6bfc4a6f-670b-4703-9cff-19f8dec33233",
   "metadata": {},
   "outputs": [
    {
     "data": {
      "text/plain": [
       "177.01875"
      ]
     },
     "execution_count": 5,
     "metadata": {},
     "output_type": "execute_result"
    }
   ],
   "source": [
    "np.mean(d)"
   ]
  },
  {
   "cell_type": "markdown",
   "id": "ce9951e4-1b74-4bb0-b06a-1c33e9c365b3",
   "metadata": {},
   "source": [
    "Q12. For a normal distribution data what is the relationship between its measure of central tendency?<br>\n",
    "Ans. mean = median = mode<hr>"
   ]
  },
  {
   "cell_type": "markdown",
   "id": "10ae5c59-cb07-4560-8068-4b74e9539528",
   "metadata": {},
   "source": [
    "Q13. How is covariance different from correlation?<br>\n",
    "Ans. Covariance is unbounded but corealation is bounded between -1 to +1.<hr>"
   ]
  },
  {
   "cell_type": "markdown",
   "id": "59dac158-3953-40de-a173-90c295b5e756",
   "metadata": {},
   "source": [
    "Q14. How do outliers affect measures of central tendency and dispersion? Provide an example.<br>\n",
    "Ans. mean is highly affected by the outliers."
   ]
  },
  {
   "cell_type": "code",
   "execution_count": 6,
   "id": "8aba1311-1328-4cd7-94c0-98c3644be3dc",
   "metadata": {},
   "outputs": [
    {
     "name": "stdout",
     "output_type": "stream",
     "text": [
      "177.01875\n",
      "177.0\n",
      "225.4294117647059\n",
      "177.0\n"
     ]
    }
   ],
   "source": [
    "print(np.mean(d))\n",
    "print(np.median(d))\n",
    "d.append(1000)\n",
    "df = d\n",
    "print(np.mean(df))\n",
    "print(np.median(df))"
   ]
  },
  {
   "cell_type": "code",
   "execution_count": null,
   "id": "fe1491a6-69e6-4991-aff6-cb8bad4f4631",
   "metadata": {},
   "outputs": [],
   "source": []
  }
 ],
 "metadata": {
  "kernelspec": {
   "display_name": "Python 3 (ipykernel)",
   "language": "python",
   "name": "python3"
  },
  "language_info": {
   "codemirror_mode": {
    "name": "ipython",
    "version": 3
   },
   "file_extension": ".py",
   "mimetype": "text/x-python",
   "name": "python",
   "nbconvert_exporter": "python",
   "pygments_lexer": "ipython3",
   "version": "3.10.8"
  }
 },
 "nbformat": 4,
 "nbformat_minor": 5
}
